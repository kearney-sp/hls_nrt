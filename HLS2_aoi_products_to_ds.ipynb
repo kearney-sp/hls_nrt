{
 "cells": [
  {
   "cell_type": "code",
   "execution_count": 1,
   "id": "4f262d40-0e49-406f-92fa-13234175b625",
   "metadata": {},
   "outputs": [],
   "source": [
    "import os\n",
    "import glob\n",
    "import numpy as np\n",
    "import xarray as xr\n",
    "import rioxarray as riox\n",
    "from datetime import datetime"
   ]
  },
  {
   "cell_type": "code",
   "execution_count": 2,
   "id": "b8738609-439f-4134-92a1-4f7512789224",
   "metadata": {},
   "outputs": [
    {
     "name": "stdout",
     "output_type": "stream",
     "text": [
      "   setting up Local cluster...\n"
     ]
    },
    {
     "name": "stderr",
     "output_type": "stream",
     "text": [
      "2022-06-21 09:41:19,157 - distributed.diskutils - INFO - Found stale lock file and directory '/mnt/c/Users/TBGPEA-Sean/git_repos/hls_nrt/dask-worker-space/worker-2dx4ntz8', purging\n",
      "2022-06-21 09:41:19,163 - distributed.diskutils - INFO - Found stale lock file and directory '/mnt/c/Users/TBGPEA-Sean/git_repos/hls_nrt/dask-worker-space/worker-74vj23ir', purging\n",
      "2022-06-21 09:41:19,167 - distributed.diskutils - INFO - Found stale lock file and directory '/mnt/c/Users/TBGPEA-Sean/git_repos/hls_nrt/dask-worker-space/worker-8cqu0ncr', purging\n",
      "2022-06-21 09:41:19,172 - distributed.diskutils - INFO - Found stale lock file and directory '/mnt/c/Users/TBGPEA-Sean/git_repos/hls_nrt/dask-worker-space/worker-b81dav7r', purging\n",
      "2022-06-21 09:41:19,177 - distributed.diskutils - INFO - Found stale lock file and directory '/mnt/c/Users/TBGPEA-Sean/git_repos/hls_nrt/dask-worker-space/worker-dl05ji2h', purging\n",
      "2022-06-21 09:41:19,182 - distributed.diskutils - INFO - Found stale lock file and directory '/mnt/c/Users/TBGPEA-Sean/git_repos/hls_nrt/dask-worker-space/worker-e7ii0rcp', purging\n",
      "2022-06-21 09:41:19,186 - distributed.diskutils - INFO - Found stale lock file and directory '/mnt/c/Users/TBGPEA-Sean/git_repos/hls_nrt/dask-worker-space/worker-tu4wc1z_', purging\n",
      "2022-06-21 09:41:19,191 - distributed.diskutils - INFO - Found stale lock file and directory '/mnt/c/Users/TBGPEA-Sean/git_repos/hls_nrt/dask-worker-space/worker-u7dfjs42', purging\n"
     ]
    }
   ],
   "source": [
    "print('   setting up Local cluster...')\n",
    "from dask.distributed import LocalCluster, Client\n",
    "import dask\n",
    "cluster = LocalCluster(n_workers=1, threads_per_worker=2)\n",
    "client = Client(cluster)"
   ]
  },
  {
   "cell_type": "code",
   "execution_count": 3,
   "id": "093ebb26-a58d-4238-9a48-123eec940e35",
   "metadata": {},
   "outputs": [],
   "source": [
    "prefix = 'cper'\n",
    "tifDIR = os.path.join('data/hls_nrt', prefix)"
   ]
  },
  {
   "cell_type": "code",
   "execution_count": 4,
   "id": "ac8ab51d-2211-45f5-848c-0071458c9649",
   "metadata": {},
   "outputs": [],
   "source": [
    "yr = 2022\n",
    "da_bare = riox.open_rasterio(os.path.join(tifDIR,\n",
    "                                         'hls_cover',\n",
    "                                          prefix + '_hls_BARE_' + \n",
    "                                          str(yr) + '.nc')).rename({'time': 'date'})#.chunk(sngl_chunks)\n",
    "da_green = riox.open_rasterio(os.path.join(tifDIR,\n",
    "                                         'hls_cover',\n",
    "                                          prefix + '_hls_GREEN_' + \n",
    "                                          str(yr) + '.nc')).rename({'time': 'date'})#.chunk(sngl_chunks)\n",
    "da_sd = riox.open_rasterio(os.path.join(tifDIR,\n",
    "                                         'hls_cover',\n",
    "                                          prefix + '_hls_SD_' + \n",
    "                                          str(yr) + '.nc')).rename({'time': 'date'})#.chunk(sngl_chunks)\n",
    "da_litt = riox.open_rasterio(os.path.join(tifDIR,\n",
    "                                         'hls_cover',\n",
    "                                          prefix + '_hls_LITT_' + \n",
    "                                          str(yr) + '.nc')).rename({'time': 'date'})#.chunk(sngl_chunks)\n",
    "da_bm = riox.open_rasterio(os.path.join(tifDIR,\n",
    "                                        'hls_biomass',\n",
    "                                        prefix + '_hls_bm_' +\n",
    "                                        str(yr) + '.nc')).rename({'time': 'date'})#.chunk(sngl_chunks)\n",
    "da_bm_se = riox.open_rasterio(os.path.join(tifDIR,\n",
    "                                        'hls_biomass',\n",
    "                                        prefix + '_hls_bm_se_' +\n",
    "                                        str(yr) + '.nc')).rename({'time': 'date'})#.chunk(sngl_chunks)\n",
    "da_ndvi = riox.open_rasterio(os.path.join(tifDIR,\n",
    "                                        'hls_ndvi',\n",
    "                                        prefix + '_hls_ndvi_' +\n",
    "                                        str(yr) + '.nc')).rename({'time': 'date'})#.chunk(sngl_chunks)\n",
    "da_bare.name = 'BARE'\n",
    "da_green.name = 'GREEN'\n",
    "da_sd.name = 'SD'\n",
    "da_litt.name = 'LITT'\n",
    "da_bm.name = 'Biomass'\n",
    "da_bm_se.name = 'Biomass_SE'\n",
    "da_ndvi.name = 'NDVI'"
   ]
  },
  {
   "cell_type": "code",
   "execution_count": 5,
   "id": "c94a1c73-f521-4a89-9c31-f7d44ce663c4",
   "metadata": {},
   "outputs": [],
   "source": [
    "da_bare = da_bare.where(da_bare > 0.0, other=0.0)\n",
    "da_bare = da_bare.where(da_bare < 1.0, other=1.0)\n",
    "\n",
    "da_green = da_green.where(da_green > 0.0, other=0.0)\n",
    "da_green = da_green.where(da_green < 1.0, other=1.0)\n",
    "\n",
    "da_sd = da_sd.where(da_sd > 0.0, other=0.0)\n",
    "da_sd = da_sd.where(da_sd < 1.0, other=1.0)\n",
    "\n",
    "da_litt = da_litt.where(da_litt > 0.0, other=0.0)\n",
    "da_litt = da_litt.where(da_litt < 1.0, other=1.0)\n",
    "\n",
    "cov_mask = da_bare.notnull() & da_green.notnull() & da_sd.notnull() & da_litt.notnull()"
   ]
  },
  {
   "cell_type": "code",
   "execution_count": 6,
   "id": "b88cae7b-ca40-4fff-b0ea-c40c0be46848",
   "metadata": {},
   "outputs": [],
   "source": [
    "ds = xr.merge([da_bare.where(cov_mask), \n",
    "               da_green.where(cov_mask), \n",
    "               da_sd.where(cov_mask),\n",
    "               da_litt.where(cov_mask),\n",
    "               da_bm.where((da_bm >= 0) & (da_bm < 5000)),\n",
    "               da_bm_se.where((da_bm >= 0) & (da_bm < 5000)),\n",
    "               da_ndvi.where((da_ndvi >= 0) & (da_ndvi <= 1))])\n",
    "ds = ds.where(ds != -9999.)"
   ]
  },
  {
   "cell_type": "code",
   "execution_count": 7,
   "id": "66a54a43-75c4-401c-901b-7211737e1dee",
   "metadata": {},
   "outputs": [],
   "source": [
    "#ds['date'] = [datetime.strptime(str(x),'%Y-%m-%d %H:%M:%S') for x in ds['date'].values]"
   ]
  },
  {
   "cell_type": "code",
   "execution_count": 8,
   "id": "102b6318-8103-42d2-8145-f87114646fab",
   "metadata": {},
   "outputs": [],
   "source": [
    "#ds['date'] = ds['date'].dt.date\n",
    "ds['DRY'] = ds['SD'] + ds['LITT']"
   ]
  },
  {
   "cell_type": "code",
   "execution_count": 9,
   "id": "c74bb554-2b4c-42a1-9267-90682b30d688",
   "metadata": {},
   "outputs": [],
   "source": [
    "ds.to_netcdf('data/gcloud/hls_cper_2022_gcloud.nc')"
   ]
  },
  {
   "cell_type": "code",
   "execution_count": null,
   "id": "7d4bc53e-7882-461a-bf36-2a970ffd3b80",
   "metadata": {},
   "outputs": [],
   "source": []
  }
 ],
 "metadata": {
  "kernelspec": {
   "display_name": "Python 3 (ipykernel)",
   "language": "python",
   "name": "python3"
  },
  "language_info": {
   "codemirror_mode": {
    "name": "ipython",
    "version": 3
   },
   "file_extension": ".py",
   "mimetype": "text/x-python",
   "name": "python",
   "nbconvert_exporter": "python",
   "pygments_lexer": "ipython3",
   "version": "3.10.4"
  }
 },
 "nbformat": 4,
 "nbformat_minor": 5
}
