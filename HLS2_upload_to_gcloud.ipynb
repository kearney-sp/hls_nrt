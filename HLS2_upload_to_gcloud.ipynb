{
 "cells": [
  {
   "cell_type": "code",
   "execution_count": 1,
   "id": "1b9dbdc6-0ea4-4167-a83a-60a74ed0cbec",
   "metadata": {},
   "outputs": [],
   "source": [
    "from google.cloud import storage\n",
    "import os\n",
    "from tqdm import tqdm"
   ]
  },
  {
   "cell_type": "code",
   "execution_count": 2,
   "id": "35f507e9-a26a-4648-ab4d-75610a5111bb",
   "metadata": {},
   "outputs": [],
   "source": [
    "os.environ[\"GOOGLE_APPLICATION_CREDENTIALS\"] = \"/project/cper_neon_aop/creds/range-nrt-2651c85c004c.json\" "
   ]
  },
  {
   "cell_type": "code",
   "execution_count": 3,
   "id": "90227408-af2c-4797-aa43-94cb05f0b692",
   "metadata": {},
   "outputs": [],
   "source": [
    "storage_client = storage.Client()\n",
    "\n",
    "buckets = list(storage_client.list_buckets())"
   ]
  },
  {
   "cell_type": "code",
   "execution_count": 4,
   "id": "711b9881-4ddf-4dbc-af2f-29393961e9c7",
   "metadata": {},
   "outputs": [
    {
     "data": {
      "text/plain": [
       "[<Bucket: hls_nrt>,\n",
       " <Bucket: range-nrt.appspot.com>,\n",
       " <Bucket: staging.range-nrt.appspot.com>,\n",
       " <Bucket: us.artifacts.range-nrt.appspot.com>]"
      ]
     },
     "execution_count": 4,
     "metadata": {},
     "output_type": "execute_result"
    }
   ],
   "source": [
    "buckets"
   ]
  },
  {
   "cell_type": "code",
   "execution_count": 5,
   "id": "7829cc12-d41c-44d4-a115-dc85b098283a",
   "metadata": {},
   "outputs": [],
   "source": [
    "bucket = storage_client.get_bucket(\"hls_nrt\")"
   ]
  },
  {
   "cell_type": "code",
   "execution_count": 6,
   "id": "fe2d6d20-9dcf-444d-9572-46e56d8e10fc",
   "metadata": {},
   "outputs": [
    {
     "name": "stderr",
     "output_type": "stream",
     "text": [
      "100%|██████████| 1/1 [00:13<00:00, 13.25s/it]\n"
     ]
    }
   ],
   "source": [
    "for yr in tqdm(range(2024, 2025)):\n",
    "    blob = bucket.blob('data/gcloud/hls_cper_' + str(yr) + '_gcloud.nc')\n",
    "    blob.upload_from_filename('/90daydata/cper_neon_aop/hls_nrt/gcloud/hls_cper_' + str(yr) + '_gcloud.nc')"
   ]
  },
  {
   "cell_type": "code",
   "execution_count": 7,
   "id": "9e03d113-339b-4572-b378-b72084a83329",
   "metadata": {},
   "outputs": [],
   "source": [
    "blob = bucket.blob('data/gcloud/hls_cper_means.csv')\n",
    "blob.upload_from_filename('/90daydata/cper_neon_aop/hls_nrt/gcloud/hls_cper_means.csv')"
   ]
  },
  {
   "cell_type": "code",
   "execution_count": 8,
   "id": "3f7c06db-f9e6-469c-991c-b38c7cab8ce0",
   "metadata": {},
   "outputs": [],
   "source": [
    "#blob = bucket.blob('data/gcloud/hls_cper_2022_gcloud.nc')\n",
    "#blob.upload_from_filename('/90daydata/cper_neon_aop/hls_nrt/gcloud/hls_cper_2022_gcloud.nc')"
   ]
  },
  {
   "cell_type": "code",
   "execution_count": null,
   "id": "dad7a152-2df6-4505-8d17-b252c401284f",
   "metadata": {},
   "outputs": [],
   "source": []
  }
 ],
 "metadata": {
  "kernelspec": {
   "display_name": "hls_nrt_env",
   "language": "python",
   "name": "hls_nrt_env"
  },
  "language_info": {
   "codemirror_mode": {
    "name": "ipython",
    "version": 3
   },
   "file_extension": ".py",
   "mimetype": "text/x-python",
   "name": "python",
   "nbconvert_exporter": "python",
   "pygments_lexer": "ipython3",
   "version": "3.9.12"
  }
 },
 "nbformat": 4,
 "nbformat_minor": 5
}
