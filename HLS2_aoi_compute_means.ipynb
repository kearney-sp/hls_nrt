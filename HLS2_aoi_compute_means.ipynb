{
 "cells": [
  {
   "cell_type": "code",
   "execution_count": 1,
   "id": "8edd9d90-936d-4506-aecb-b9cff2af9b29",
   "metadata": {},
   "outputs": [],
   "source": [
    "import rioxarray as riox\n",
    "import rasterio as rio\n",
    "import xarray as xr\n",
    "import os\n",
    "import re\n",
    "import numpy as np\n",
    "import pandas as pd\n",
    "import geopandas as gpd\n",
    "from datetime import datetime, timedelta\n",
    "from src.hls_funcs.masks import shp2mask"
   ]
  },
  {
   "cell_type": "code",
   "execution_count": 2,
   "id": "dd33b492-5fca-4f0f-8df5-f1e03ac2f4d4",
   "metadata": {},
   "outputs": [],
   "source": [
    "prefix = 'cper'\n",
    "yr = 2022"
   ]
  },
  {
   "cell_type": "code",
   "execution_count": 3,
   "id": "e0a530de-4a98-4bf6-b10e-c5929fa6d689",
   "metadata": {},
   "outputs": [],
   "source": [
    "ds = riox.open_rasterio('data/gcloud/hls_' + prefix + '_' + str(yr) + '_gcloud.nc', masked=True)\n",
    "ds_ndvi_lta = riox.open_rasterio('data/ee_lta/' + prefix + '_ee_ndvi_landsat_wkly_lta.nc', masked=True)\n",
    "ds_ndvi_lta['date'] = [datetime.strptime(re.sub('2020', '2099', str(x)),'%Y-%m-%d %H:%M:%S') for x in ds_ndvi_lta['date'].values]\n",
    "#ds_ndvi_lta['date'] = ds_ndvi_lta['date'].dt.date\n",
    "ds_ndvi_lta = ds_ndvi_lta.reindex({'y': ds.y, 'x': ds.x}, method='nearest', tolerance=30)#.isnull().all()"
   ]
  },
  {
   "cell_type": "code",
   "execution_count": 4,
   "id": "0f47b214-bc22-4821-a46a-beab41858427",
   "metadata": {},
   "outputs": [],
   "source": [
    "if prefix == 'cper':\n",
    "    cper_f = 'data/ground/cper_pastures_2017_dissolved.shp'\n",
    "    cper = gpd.read_file(cper_f).to_crs(ds.rio.crs.to_epsg())\n",
    "    cper_info = cper[['Pasture', 'geometry']].reset_index(drop=True).reset_index().rename(columns={'index': 'id'})\n",
    "    past_dict = {row.id+1: row.Pasture for _, row in cper_info.iterrows()}\n",
    "    past_dict[0] = 'UNK'\n",
    "    cper_mask_shp = [(row.geometry, row.id+1) for _, row in cper_info.iterrows()]\n",
    "    cper_mask = shp2mask(shp=cper_mask_shp, \n",
    "                         transform=ds.rio.transform(), \n",
    "                         outshape=ds['NDVI'].shape[1:], \n",
    "                         xr_object=ds['NDVI'])\n",
    "    past_mask = np.array([past_dict[i] for i in cper_mask.values.flatten()]).reshape(cper_mask.shape)"
   ]
  },
  {
   "cell_type": "code",
   "execution_count": 5,
   "id": "5cf9538e-db03-4656-b31c-abf4600b63c2",
   "metadata": {},
   "outputs": [],
   "source": [
    "ds = ds.assign(Pasture=(['y', 'x'], past_mask)).chunk({'y': 50, 'x': 50})\n",
    "ds = ds.set_coords('Pasture')"
   ]
  },
  {
   "cell_type": "code",
   "execution_count": 6,
   "id": "88637c55-0de8-4706-9a4d-07278f1384e4",
   "metadata": {},
   "outputs": [],
   "source": [
    "#ds_ndvi_lta['date'] = pd.to_datetime(ds_ndvi_lta['date']) + timedelta(days=3)"
   ]
  },
  {
   "cell_type": "code",
   "execution_count": 7,
   "id": "2d54bb8c-0b6a-4e5f-b1a7-6ea8aa2b53d3",
   "metadata": {},
   "outputs": [],
   "source": [
    "df_ndvi_lta = ds_ndvi_lta.groupby(ds['Pasture']).mean(dim='stacked_y_x').to_dataframe().reset_index().drop(columns='spatial_ref')\n",
    "df_ndvi_lta['Year'] = '30-yr avg.'"
   ]
  },
  {
   "cell_type": "code",
   "execution_count": 8,
   "id": "a57e3700-4eaf-4474-bf85-f06b8a715f6d",
   "metadata": {},
   "outputs": [
    {
     "name": "stdout",
     "output_type": "stream",
     "text": [
      "2020\n",
      "2021\n",
      "2022\n"
     ]
    }
   ],
   "source": [
    "yr_list = [2020, 2021, 2022]\n",
    "for idx, yr_i in enumerate(yr_list):\n",
    "    print(yr_i)\n",
    "    yr_dates_tmp = [datetime(yr_i, 1, 1) + timedelta(weeks=w) for w in range(53)]\n",
    "    ds_ndvi_yr = riox.open_rasterio('data/hls_nrt/' + prefix + '/hls_ndvi/' + prefix + '_hls_ndvi_' + str(yr_i) + '.nc',\n",
    "                                    masked=True).rename({'time': 'date'})\n",
    "    ds_ndvi_yr['date'] = [datetime.strptime(str(x), '%Y-%m-%d %H:%M:%S') for x in ds_ndvi_yr['date'].values]\n",
    "    #df_ndvi_yr_wkly = ds_ndvi_yr_wkly.groupby(ds['Pasture']).mean(dim='stacked_y_x').to_dataframe().reset_index().drop(columns='spatial_ref')\n",
    "    #df_ndvi_yr_wkly['Year'] = yr_i\n",
    "    \n",
    "    ds_bm_yr = riox.open_rasterio('data/hls_nrt/' + prefix + '/hls_biomass/' + prefix + '_hls_bm_' + str(yr_i) + '.nc',\n",
    "                                    masked=True).rename({'time': 'date'})\n",
    "    ds_bm_yr['date'] = [datetime.strptime(str(x), '%Y-%m-%d %H:%M:%S') for x in ds_bm_yr['date'].values]\n",
    "    #df_bm_yr_wkly = ds_bm_yr_wkly.groupby(ds['Pasture']).mean(dim='stacked_y_x').to_dataframe().reset_index().drop(columns='spatial_ref')\n",
    "    #df_bm_yr_wkly['Year'] = yr_i\n",
    "    \n",
    "    ds_bare_yr = riox.open_rasterio('data/hls_nrt/' + prefix + '/hls_cover/' + prefix + '_hls_BARE_' + str(yr_i) + '.nc',\n",
    "                                masked=True).rename({'time': 'date'})\n",
    "    ds_bare_yr['date'] = [datetime.strptime(str(x), '%Y-%m-%d %H:%M:%S') for x in ds_bare_yr['date'].values]\n",
    "    \n",
    "    ds_sd_yr = riox.open_rasterio('data/hls_nrt/' + prefix + '/hls_cover/' + prefix + '_hls_SD_' + str(yr_i) + '.nc',\n",
    "                                masked=True).rename({'time': 'date'})\n",
    "    ds_sd_yr['date'] = [datetime.strptime(str(x), '%Y-%m-%d %H:%M:%S') for x in ds_sd_yr['date'].values]\n",
    "    \n",
    "    \n",
    "    ds_green_yr = riox.open_rasterio('data/hls_nrt/' + prefix + '/hls_cover/' + prefix + '_hls_GREEN_' + str(yr_i) + '.nc',\n",
    "                                masked=True).rename({'time': 'date'})\n",
    "    ds_green_yr['date'] = [datetime.strptime(str(x), '%Y-%m-%d %H:%M:%S') for x in ds_green_yr['date'].values]\n",
    "    \n",
    "    ds_litt_yr = riox.open_rasterio('data/hls_nrt/' + prefix + '/hls_cover/' + prefix + '_hls_LITT_' + str(yr_i) + '.nc',\n",
    "                                masked=True).rename({'time': 'date'})\n",
    "    ds_litt_yr['date'] = [datetime.strptime(str(x), '%Y-%m-%d %H:%M:%S') for x in ds_litt_yr['date'].values]\n",
    "    \n",
    "    if yr_i != yr_list[-1]:\n",
    "        ds_ndvi_yr_wkly = ds_ndvi_yr.sel(date=yr_dates_tmp, method='nearest', tolerance=timedelta(days=1), drop=True)\n",
    "        ds_bm_yr_wkly = ds_bm_yr.sel(date=yr_dates_tmp, method='nearest', tolerance=timedelta(days=1), drop=True)\n",
    "        ds_bare_yr_wkly = ds_bare_yr.sel(date=yr_dates_tmp, method='nearest', tolerance=timedelta(days=1), drop=True)\n",
    "        ds_sd_yr_wkly = ds_sd_yr.sel(date=yr_dates_tmp, method='nearest', tolerance=timedelta(days=1), drop=True)\n",
    "        ds_green_yr_wkly = ds_green_yr.sel(date=yr_dates_tmp, method='nearest', tolerance=timedelta(days=1), drop=True)\n",
    "        ds_litt_yr_wkly = ds_litt_yr.sel(date=yr_dates_tmp, method='nearest', tolerance=timedelta(days=1), drop=True)\n",
    "        df_yr_wkly = xr.merge([ds_ndvi_yr_wkly,\n",
    "                               ds_bm_yr_wkly,\n",
    "                               ds_bare_yr_wkly,\n",
    "                               ds_sd_yr_wkly,\n",
    "                               ds_green_yr_wkly,\n",
    "                               ds_litt_yr_wkly]).groupby(\n",
    "            ds['Pasture']).mean(\n",
    "            dim='stacked_y_x').to_dataframe().reset_index().drop(\n",
    "            columns='spatial_ref')\n",
    "    else:\n",
    "        df_yr_wkly = xr.merge([ds_ndvi_yr,\n",
    "                           ds_bm_yr,\n",
    "                           ds_bare_yr,\n",
    "                           ds_sd_yr,\n",
    "                           ds_green_yr,\n",
    "                           ds_litt_yr]).groupby(\n",
    "        ds['Pasture']).mean(\n",
    "        dim='stacked_y_x').to_dataframe().reset_index().drop(\n",
    "        columns='spatial_ref')\n",
    "    df_yr_wkly['Year'] = str(yr_i)\n",
    "    \n",
    "    if idx == 0:\n",
    "        df_out = df_yr_wkly.copy()\n",
    "    else:\n",
    "        df_out = pd.concat([df_out, df_yr_wkly])"
   ]
  },
  {
   "cell_type": "code",
   "execution_count": 9,
   "id": "8923f9fa-59ef-4340-b1df-ca7b41e5e52c",
   "metadata": {},
   "outputs": [],
   "source": [
    "df_out = pd.concat([df_ndvi_lta, df_out])"
   ]
  },
  {
   "cell_type": "code",
   "execution_count": 10,
   "id": "85d377b3-11ed-4304-ba9c-ec9dc2633a30",
   "metadata": {},
   "outputs": [],
   "source": [
    "df_out_aoi = df_out.groupby('date').mean().reset_index()"
   ]
  },
  {
   "cell_type": "code",
   "execution_count": 11,
   "id": "d5ade544-5922-4c5b-99ba-a045e209cded",
   "metadata": {},
   "outputs": [],
   "source": [
    "df_out_aoi['Pasture'] = prefix\n",
    "df_out_aoi['Year'] = df_out_aoi['date'].dt.isocalendar().year.transform(lambda x: '30-yr avg.' if x == 2099 else str(x))\n",
    "df_out = pd.concat([df_out, df_out_aoi])"
   ]
  },
  {
   "cell_type": "code",
   "execution_count": 12,
   "id": "88c69b43-6791-4898-b694-8263b80258db",
   "metadata": {},
   "outputs": [],
   "source": [
    "df_out[['NDVI', \n",
    "        'Biomass',\n",
    "        'BARE',\n",
    "        'SD', \n",
    "        'GREEN',\n",
    "        'LITT']] = df_out.transform({'NDVI': lambda x: np.round(x, 3),\n",
    "                  'Biomass': lambda x: np.round(x, 0),\n",
    "                  'BARE': lambda x: np.round(x * 100, 1),\n",
    "                  'SD': lambda x: np.round(x * 100, 1),\n",
    "                  'GREEN': lambda x: np.round(x * 100, 1),\n",
    "                  'LITT': lambda x: np.round(x * 100, 1)})"
   ]
  },
  {
   "cell_type": "code",
   "execution_count": 13,
   "id": "7ec3cca3-f211-40ba-837c-32fcca9f0bef",
   "metadata": {},
   "outputs": [],
   "source": [
    "df_out.to_csv('data/gcloud/hls_' + prefix + '_means.csv', index=False)"
   ]
  }
 ],
 "metadata": {
  "kernelspec": {
   "display_name": "Python 3 (ipykernel)",
   "language": "python",
   "name": "python3"
  },
  "language_info": {
   "codemirror_mode": {
    "name": "ipython",
    "version": 3
   },
   "file_extension": ".py",
   "mimetype": "text/x-python",
   "name": "python",
   "nbconvert_exporter": "python",
   "pygments_lexer": "ipython3",
   "version": "3.10.4"
  }
 },
 "nbformat": 4,
 "nbformat_minor": 5
}
