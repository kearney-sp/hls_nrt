{
 "cells": [
  {
   "cell_type": "code",
   "execution_count": 14,
   "id": "e8da3fef-f415-4c09-ab20-9a455524bf15",
   "metadata": {},
   "outputs": [],
   "source": [
    "import numpy as np\n",
    "import os\n",
    "import re\n",
    "import pandas as pd\n",
    "import geopandas as gpd\n",
    "from datetime import datetime, timedelta\n",
    "from tqdm import tqdm\n",
    "tqdm.pandas()\n",
    "import time\n",
    "from hlsstack.hls_funcs.smooth import despike_ts, double_savgol\n",
    "import gc\n",
    "from glob import glob\n",
    "from itertools import chain\n",
    "import matplotlib.pyplot as plt\n",
    "import seaborn as sns"
   ]
  },
  {
   "cell_type": "code",
   "execution_count": 15,
   "id": "457ea626-9bd3-4c0b-b366-a4031276c77b",
   "metadata": {},
   "outputs": [],
   "source": [
    "import sys\n",
    "sys.path.insert(1, '/project/cper_neon_aop/hls_nrt/params/ffar_mi_params')\n",
    "from ffar_mi_params_smooth import *"
   ]
  },
  {
   "cell_type": "code",
   "execution_count": 16,
   "id": "41a9df19-f177-4fdc-831b-25bfb39b0b5d",
   "metadata": {},
   "outputs": [
    {
     "data": {
      "text/plain": [
       "<module 'ffar_mi_params_smooth' from '/project/cper_neon_aop/hls_nrt/params/ffar_mi_params/ffar_mi_params_smooth.py'>"
      ]
     },
     "execution_count": 16,
     "metadata": {},
     "output_type": "execute_result"
    }
   ],
   "source": [
    "from importlib import reload\n",
    "import sys\n",
    "reload(sys.modules[\"ffar_mi_params_smooth\"])"
   ]
  },
  {
   "cell_type": "code",
   "execution_count": 17,
   "id": "d69266a0-57d4-4f58-8d9f-85d86ee17413",
   "metadata": {},
   "outputs": [],
   "source": [
    "def adapt_smooth(ts, dates, despike=True, dat_thresh=None):\n",
    "    ct_valid = sum(~np.isnan(ts))\n",
    "    ct_total = len(ts)\n",
    "    avg_gap = ct_total/ct_valid\n",
    "    if ct_valid > 0:\n",
    "        if avg_gap > 15:\n",
    "            despike = False\n",
    "        if despike:\n",
    "            if dat_thresh is None:\n",
    "                _dat_thresh = np.ptp(ts.values) * 0.10\n",
    "            else:\n",
    "                _dat_thresh = dat_thresh\n",
    "            ts_ds = despike_ts(ts.values, dat_thresh=_dat_thresh, days_thresh=45)\n",
    "        else:\n",
    "            ts_ds = ts.values\n",
    "        if avg_gap > 10:\n",
    "            ts_smooth = double_savgol(ts_ds, double=True, window1_max=7, window2=31, limit=91)\n",
    "        elif avg_gap > 7:\n",
    "             ts_smooth = double_savgol(ts_ds, double=True, window1_max=5, window2=41, limit=91)\n",
    "        elif avg_gap > 5:\n",
    "             ts_smooth = double_savgol(ts_ds, double=True, window1_max=5, window2=51, limit=91)\n",
    "        else:\n",
    "            ts_smooth = double_savgol(ts_ds, double=False, window2=51, limit=91)\n",
    "    else:\n",
    "        ts_smooth = ts\n",
    "    return pd.Series(ts_smooth, ts.index.get_level_values(-1))"
   ]
  },
  {
   "cell_type": "code",
   "execution_count": 18,
   "id": "a5905787-e74a-4db4-8008-bef1e799404d",
   "metadata": {},
   "outputs": [],
   "source": [
    "fLIST = glob(inPATH_wc)\n",
    "df = pd.read_csv(inPATH_dat, parse_dates=[date_col])"
   ]
  },
  {
   "cell_type": "code",
   "execution_count": 19,
   "id": "3f3f5f95-f3ad-4ae6-bcf4-f636df295989",
   "metadata": {},
   "outputs": [],
   "source": [
    "if preprocess is not None:\n",
    "    df = preprocess(df)"
   ]
  },
  {
   "cell_type": "code",
   "execution_count": 20,
   "id": "ff4e2427-8b1d-4672-915a-1f0d384a75bf",
   "metadata": {},
   "outputs": [
    {
     "data": {
      "text/html": [
       "<div>\n",
       "<style scoped>\n",
       "    .dataframe tbody tr th:only-of-type {\n",
       "        vertical-align: middle;\n",
       "    }\n",
       "\n",
       "    .dataframe tbody tr th {\n",
       "        vertical-align: top;\n",
       "    }\n",
       "\n",
       "    .dataframe thead th {\n",
       "        text-align: right;\n",
       "    }\n",
       "</style>\n",
       "<table border=\"1\" class=\"dataframe\">\n",
       "  <thead>\n",
       "    <tr style=\"text-align: right;\">\n",
       "      <th></th>\n",
       "      <th>Unnamed: 0</th>\n",
       "      <th>Block_name</th>\n",
       "      <th>Treatment</th>\n",
       "      <th>Date</th>\n",
       "      <th>Site</th>\n",
       "      <th>Ranch</th>\n",
       "      <th>Year</th>\n",
       "      <th>Low.reading_mean</th>\n",
       "      <th>Low.reading_sd</th>\n",
       "      <th>High.reading_mean</th>\n",
       "      <th>...</th>\n",
       "      <th>High.rounded_10_mean</th>\n",
       "      <th>High.rounded_10_sd</th>\n",
       "      <th>Sample_ID_vor</th>\n",
       "      <th>mean_biomass</th>\n",
       "      <th>sd_biomass</th>\n",
       "      <th>Sample_ID_bio</th>\n",
       "      <th>X_coord</th>\n",
       "      <th>Y_coord</th>\n",
       "      <th>ID</th>\n",
       "      <th>Block_Id</th>\n",
       "    </tr>\n",
       "  </thead>\n",
       "  <tbody>\n",
       "    <tr>\n",
       "      <th>0</th>\n",
       "      <td>1</td>\n",
       "      <td>7</td>\n",
       "      <td>AD</td>\n",
       "      <td>2022-06-06</td>\n",
       "      <td>MI</td>\n",
       "      <td>LC</td>\n",
       "      <td>2022</td>\n",
       "      <td>45.727273</td>\n",
       "      <td>5.666794</td>\n",
       "      <td>85.363636</td>\n",
       "      <td>...</td>\n",
       "      <td>87.272727</td>\n",
       "      <td>6.310851</td>\n",
       "      <td>2022-06-06_MI_LC_AD_7</td>\n",
       "      <td>1586.666667</td>\n",
       "      <td>329.524911</td>\n",
       "      <td>2022-06-06_MI_LC_AD_7</td>\n",
       "      <td>-85.213424</td>\n",
       "      <td>44.306466</td>\n",
       "      <td>7_AD_2022</td>\n",
       "      <td>7_AD</td>\n",
       "    </tr>\n",
       "    <tr>\n",
       "      <th>1</th>\n",
       "      <td>2</td>\n",
       "      <td>7</td>\n",
       "      <td>AD</td>\n",
       "      <td>2022-08-22</td>\n",
       "      <td>MI</td>\n",
       "      <td>LC</td>\n",
       "      <td>2022</td>\n",
       "      <td>21.600000</td>\n",
       "      <td>5.963105</td>\n",
       "      <td>65.700000</td>\n",
       "      <td>...</td>\n",
       "      <td>68.666667</td>\n",
       "      <td>24.315928</td>\n",
       "      <td>2022-08-22_MI_LC_AD_7</td>\n",
       "      <td>1756.666667</td>\n",
       "      <td>314.710064</td>\n",
       "      <td>2022-08-22_MI_LC_AD_7</td>\n",
       "      <td>-85.213424</td>\n",
       "      <td>44.306466</td>\n",
       "      <td>7_AD_2022</td>\n",
       "      <td>7_AD</td>\n",
       "    </tr>\n",
       "    <tr>\n",
       "      <th>2</th>\n",
       "      <td>3</td>\n",
       "      <td>7</td>\n",
       "      <td>AD</td>\n",
       "      <td>2023-09-19</td>\n",
       "      <td>MI</td>\n",
       "      <td>LC</td>\n",
       "      <td>2023</td>\n",
       "      <td>17.266667</td>\n",
       "      <td>2.947042</td>\n",
       "      <td>26.600000</td>\n",
       "      <td>...</td>\n",
       "      <td>30.333333</td>\n",
       "      <td>4.901325</td>\n",
       "      <td>2023-09-19_MI_LC_AD_7</td>\n",
       "      <td>1320.000000</td>\n",
       "      <td>289.551377</td>\n",
       "      <td>2023-09-19_MI_LC_AD_7</td>\n",
       "      <td>-85.213424</td>\n",
       "      <td>44.306466</td>\n",
       "      <td>7_AD_2023</td>\n",
       "      <td>7_AD</td>\n",
       "    </tr>\n",
       "    <tr>\n",
       "      <th>3</th>\n",
       "      <td>4</td>\n",
       "      <td>7</td>\n",
       "      <td>AD</td>\n",
       "      <td>2023-07-20</td>\n",
       "      <td>MI</td>\n",
       "      <td>LC</td>\n",
       "      <td>2023</td>\n",
       "      <td>6.466667</td>\n",
       "      <td>2.979624</td>\n",
       "      <td>22.133333</td>\n",
       "      <td>...</td>\n",
       "      <td>25.333333</td>\n",
       "      <td>16.965143</td>\n",
       "      <td>2023-07-20_MI_LC_AD_7</td>\n",
       "      <td>926.666667</td>\n",
       "      <td>528.494718</td>\n",
       "      <td>2023-07-20_MI_LC_AD_7</td>\n",
       "      <td>-85.213424</td>\n",
       "      <td>44.306466</td>\n",
       "      <td>7_AD_2023</td>\n",
       "      <td>7_AD</td>\n",
       "    </tr>\n",
       "    <tr>\n",
       "      <th>4</th>\n",
       "      <td>5</td>\n",
       "      <td>7</td>\n",
       "      <td>AD</td>\n",
       "      <td>2023-05-24</td>\n",
       "      <td>MI</td>\n",
       "      <td>LC</td>\n",
       "      <td>2023</td>\n",
       "      <td>25.300000</td>\n",
       "      <td>6.086446</td>\n",
       "      <td>47.033333</td>\n",
       "      <td>...</td>\n",
       "      <td>52.000000</td>\n",
       "      <td>8.051558</td>\n",
       "      <td>2023-05-24_MI_LC_AD_7</td>\n",
       "      <td>2346.666667</td>\n",
       "      <td>494.233413</td>\n",
       "      <td>2023-05-23_MI_LC_AD_7</td>\n",
       "      <td>-85.213424</td>\n",
       "      <td>44.306466</td>\n",
       "      <td>7_AD_2023</td>\n",
       "      <td>7_AD</td>\n",
       "    </tr>\n",
       "  </tbody>\n",
       "</table>\n",
       "<p>5 rows × 27 columns</p>\n",
       "</div>"
      ],
      "text/plain": [
       "   Unnamed: 0  Block_name Treatment       Date Site Ranch  Year  \\\n",
       "0           1           7        AD 2022-06-06   MI    LC  2022   \n",
       "1           2           7        AD 2022-08-22   MI    LC  2022   \n",
       "2           3           7        AD 2023-09-19   MI    LC  2023   \n",
       "3           4           7        AD 2023-07-20   MI    LC  2023   \n",
       "4           5           7        AD 2023-05-24   MI    LC  2023   \n",
       "\n",
       "   Low.reading_mean  Low.reading_sd  High.reading_mean  ...  \\\n",
       "0         45.727273        5.666794          85.363636  ...   \n",
       "1         21.600000        5.963105          65.700000  ...   \n",
       "2         17.266667        2.947042          26.600000  ...   \n",
       "3          6.466667        2.979624          22.133333  ...   \n",
       "4         25.300000        6.086446          47.033333  ...   \n",
       "\n",
       "   High.rounded_10_mean  High.rounded_10_sd          Sample_ID_vor  \\\n",
       "0             87.272727            6.310851  2022-06-06_MI_LC_AD_7   \n",
       "1             68.666667           24.315928  2022-08-22_MI_LC_AD_7   \n",
       "2             30.333333            4.901325  2023-09-19_MI_LC_AD_7   \n",
       "3             25.333333           16.965143  2023-07-20_MI_LC_AD_7   \n",
       "4             52.000000            8.051558  2023-05-24_MI_LC_AD_7   \n",
       "\n",
       "   mean_biomass  sd_biomass          Sample_ID_bio    X_coord    Y_coord  \\\n",
       "0   1586.666667  329.524911  2022-06-06_MI_LC_AD_7 -85.213424  44.306466   \n",
       "1   1756.666667  314.710064  2022-08-22_MI_LC_AD_7 -85.213424  44.306466   \n",
       "2   1320.000000  289.551377  2023-09-19_MI_LC_AD_7 -85.213424  44.306466   \n",
       "3    926.666667  528.494718  2023-07-20_MI_LC_AD_7 -85.213424  44.306466   \n",
       "4   2346.666667  494.233413  2023-05-23_MI_LC_AD_7 -85.213424  44.306466   \n",
       "\n",
       "          ID Block_Id  \n",
       "0  7_AD_2022     7_AD  \n",
       "1  7_AD_2022     7_AD  \n",
       "2  7_AD_2023     7_AD  \n",
       "3  7_AD_2023     7_AD  \n",
       "4  7_AD_2023     7_AD  \n",
       "\n",
       "[5 rows x 27 columns]"
      ]
     },
     "execution_count": 20,
     "metadata": {},
     "output_type": "execute_result"
    }
   ],
   "source": [
    "df.head(5)"
   ]
  },
  {
   "cell_type": "code",
   "execution_count": 21,
   "id": "2590c545-46b6-462e-88dc-605fd1869d2c",
   "metadata": {},
   "outputs": [],
   "source": [
    "yr = 2022"
   ]
  },
  {
   "cell_type": "code",
   "execution_count": 22,
   "id": "bf825c0b-cb66-4847-a9ff-6bf25c5b5837",
   "metadata": {},
   "outputs": [
    {
     "name": "stdout",
     "output_type": "stream",
     "text": [
      "Smoothing vegetation indices\n"
     ]
    },
    {
     "name": "stderr",
     "output_type": "stream",
     "text": [
      "100%|██████████| 22/22 [00:07<00:00,  3.00it/s]\n"
     ]
    },
    {
     "name": "stdout",
     "output_type": "stream",
     "text": [
      "Smoothing individual bands\n"
     ]
    },
    {
     "name": "stderr",
     "output_type": "stream",
     "text": [
      "100%|██████████| 6/6 [00:01<00:00,  3.34it/s]\n"
     ]
    }
   ],
   "source": [
    "# get list of files that match year based on path\n",
    "fLIST_yr = [x for x in fLIST if str(yr) in os.path.basename(x).split('_')]\n",
    "\n",
    "# combine all individual tile files into one dataframe\n",
    "df_yr = pd.concat([pd.read_csv(x, parse_dates=[1]) for x in fLIST_yr])\n",
    "\n",
    "# rename columns to match ground data\n",
    "df_yr = df_yr.rename(columns={'time': date_col,\n",
    "                              'Plot': id_col})\n",
    "\n",
    "# convert date to datetime\n",
    "df_yr[date_col] = pd.to_datetime(df_yr[date_col])\n",
    "\n",
    "# remove all non-plot data\n",
    "#df_yr = df_yr[df_yr[id_col] != 'UNK']\n",
    "\n",
    "# remove any dates where bands are negative\n",
    "df_yr = df_yr[~((df_yr[band_list] < 0).any(axis=1))]\n",
    "\n",
    "# drop any duplicates by taking mean for each plot and date (might exist e.g., from plot on edge of tile during extraction)\n",
    "df_yr = df_yr.groupby([id_col, date_col]).mean().reset_index()\n",
    "\n",
    "# get missing dates for gap-filling\n",
    "dates_missing = [x for x in pd.date_range(df_yr[date_col].min(), df_yr[date_col].max()).date if x not in df_yr[date_col].dt.date.unique()]\n",
    "\n",
    "# convert missing dates to a dataframe for combining with veg index data\n",
    "df_missing = pd.DataFrame({\n",
    "    id_col: list(chain.from_iterable([list(np.repeat(x, len(dates_missing))) for x in df_yr[id_col].unique()])),\n",
    "    date_col: list(chain.from_iterable(dates_missing for x in df_yr[id_col].unique()))})\n",
    "\n",
    "df_missing[date_col] = pd.to_datetime(df_missing[date_col])\n",
    "\n",
    "# combine into one dataframe for gapfilling\n",
    "df_yr_ts = pd.concat([df_yr, df_missing]).sort_values([id_col, date_col])\n",
    "\n",
    "# apply Bolton mask to extracted values\n",
    "if mask_bolton_by_id:\n",
    "    ps_bolton = df_yr_ts.groupby(id_col).progress_apply(lambda x: bolton_mask_np(x['BLUE'], x['SWIR2']))\n",
    "    df_yr_ts.loc[df_yr_ts[ps_bolton.droplevel(0) == 1.0].index, list(veg_dict.keys()) + band_list] = np.nan\n",
    "\n",
    "# smooth all vegetation indices to gapfill\n",
    "print('Smoothing vegetation indices')\n",
    "for vegidx in tqdm(veg_list):\n",
    "    #df_yr_ts[vegidx + '_smooth'] = df_yr_ts.groupby(id_col)[vegidx].transform(lambda x: double_savgol(x.values))\n",
    "    vals_smooth_yr = df_yr_ts.groupby(id_col).apply(lambda x: adapt_smooth(x[vegidx], pd.to_datetime(x[date_col])))\n",
    "    if vals_smooth_yr.index.nlevels > 1:\n",
    "        df_yr_ts[vegidx + '_smooth'] = vals_smooth_yr.droplevel(list(np.arange(vals_smooth_yr.index.nlevels-1)))\n",
    "    else:\n",
    "        df_yr_ts[vegidx + '_smooth'] = vals_smooth_yr.values.squeeze()\n",
    "print('Smoothing individual bands')\n",
    "for band in tqdm(band_list):\n",
    "    #df_yr_ts[band + '_smooth'] = df_yr_ts.groupby(id_col)[band].transform(lambda x: double_savgol(x.values))\n",
    "    vals_smooth_yr = df_yr_ts.groupby(id_col).apply(lambda x: adapt_smooth(x[band], pd.to_datetime(x[date_col])))\n",
    "    if vals_smooth_yr.index.nlevels > 1:\n",
    "        df_yr_ts[band + '_smooth'] = vals_smooth_yr.droplevel(list(np.arange(vals_smooth_yr.index.nlevels-1)))\n",
    "    else:\n",
    "        df_yr_ts[band + '_smooth'] = vals_smooth_yr.values.squeeze()"
   ]
  },
  {
   "cell_type": "code",
   "execution_count": 23,
   "id": "cc06657a-d27e-481d-9f80-30e7cfcc898f",
   "metadata": {},
   "outputs": [
    {
     "data": {
      "text/html": [
       "<div>\n",
       "<style scoped>\n",
       "    .dataframe tbody tr th:only-of-type {\n",
       "        vertical-align: middle;\n",
       "    }\n",
       "\n",
       "    .dataframe tbody tr th {\n",
       "        vertical-align: top;\n",
       "    }\n",
       "\n",
       "    .dataframe thead th {\n",
       "        text-align: right;\n",
       "    }\n",
       "</style>\n",
       "<table border=\"1\" class=\"dataframe\">\n",
       "  <thead>\n",
       "    <tr style=\"text-align: right;\">\n",
       "      <th></th>\n",
       "      <th>ID</th>\n",
       "      <th>Date</th>\n",
       "      <th>NDVI</th>\n",
       "      <th>DFI</th>\n",
       "      <th>NDTI</th>\n",
       "      <th>SATVI</th>\n",
       "      <th>NDII7</th>\n",
       "      <th>SAVI</th>\n",
       "      <th>RDVI</th>\n",
       "      <th>MTVI1</th>\n",
       "      <th>...</th>\n",
       "      <th>BAI_146_smooth</th>\n",
       "      <th>BAI_236_smooth</th>\n",
       "      <th>BAI_246_smooth</th>\n",
       "      <th>BAI_346_smooth</th>\n",
       "      <th>BLUE_smooth</th>\n",
       "      <th>GREEN_smooth</th>\n",
       "      <th>RED_smooth</th>\n",
       "      <th>NIR1_smooth</th>\n",
       "      <th>SWIR1_smooth</th>\n",
       "      <th>SWIR2_smooth</th>\n",
       "    </tr>\n",
       "  </thead>\n",
       "  <tbody>\n",
       "  </tbody>\n",
       "</table>\n",
       "<p>0 rows × 58 columns</p>\n",
       "</div>"
      ],
      "text/plain": [
       "Empty DataFrame\n",
       "Columns: [ID, Date, NDVI, DFI, NDTI, SATVI, NDII7, SAVI, RDVI, MTVI1, NCI, NDCI, PSRI, NDWI, EVI, TCBI, TCGI, TCWI, BAI_126, BAI_136, BAI_146, BAI_236, BAI_246, BAI_346, BLUE, GREEN, RED, NIR1, SWIR1, SWIR2, NDVI_smooth, DFI_smooth, NDTI_smooth, SATVI_smooth, NDII7_smooth, SAVI_smooth, RDVI_smooth, MTVI1_smooth, NCI_smooth, NDCI_smooth, PSRI_smooth, NDWI_smooth, EVI_smooth, TCBI_smooth, TCGI_smooth, TCWI_smooth, BAI_126_smooth, BAI_136_smooth, BAI_146_smooth, BAI_236_smooth, BAI_246_smooth, BAI_346_smooth, BLUE_smooth, GREEN_smooth, RED_smooth, NIR1_smooth, SWIR1_smooth, SWIR2_smooth]\n",
       "Index: []\n",
       "\n",
       "[0 rows x 58 columns]"
      ]
     },
     "execution_count": 23,
     "metadata": {},
     "output_type": "execute_result"
    }
   ],
   "source": [
    "# look for any missing data\n",
    "df_yr_ts[df_yr_ts['NDVI_smooth'].isnull()].sort_values(id_col)"
   ]
  },
  {
   "cell_type": "code",
   "execution_count": 24,
   "id": "95b81795-dc80-4d66-a895-5c790d2f1bc4",
   "metadata": {},
   "outputs": [
    {
     "data": {
      "text/html": [
       "<div>\n",
       "<style scoped>\n",
       "    .dataframe tbody tr th:only-of-type {\n",
       "        vertical-align: middle;\n",
       "    }\n",
       "\n",
       "    .dataframe tbody tr th {\n",
       "        vertical-align: top;\n",
       "    }\n",
       "\n",
       "    .dataframe thead th {\n",
       "        text-align: right;\n",
       "    }\n",
       "</style>\n",
       "<table border=\"1\" class=\"dataframe\">\n",
       "  <thead>\n",
       "    <tr style=\"text-align: right;\">\n",
       "      <th></th>\n",
       "      <th>ID</th>\n",
       "      <th>Date</th>\n",
       "      <th>NDVI</th>\n",
       "      <th>DFI</th>\n",
       "      <th>NDTI</th>\n",
       "      <th>SATVI</th>\n",
       "      <th>NDII7</th>\n",
       "      <th>SAVI</th>\n",
       "      <th>RDVI</th>\n",
       "      <th>MTVI1</th>\n",
       "      <th>...</th>\n",
       "      <th>BAI_146_smooth</th>\n",
       "      <th>BAI_236_smooth</th>\n",
       "      <th>BAI_246_smooth</th>\n",
       "      <th>BAI_346_smooth</th>\n",
       "      <th>BLUE_smooth</th>\n",
       "      <th>GREEN_smooth</th>\n",
       "      <th>RED_smooth</th>\n",
       "      <th>NIR1_smooth</th>\n",
       "      <th>SWIR1_smooth</th>\n",
       "      <th>SWIR2_smooth</th>\n",
       "    </tr>\n",
       "  </thead>\n",
       "  <tbody>\n",
       "  </tbody>\n",
       "</table>\n",
       "<p>0 rows × 58 columns</p>\n",
       "</div>"
      ],
      "text/plain": [
       "Empty DataFrame\n",
       "Columns: [ID, Date, NDVI, DFI, NDTI, SATVI, NDII7, SAVI, RDVI, MTVI1, NCI, NDCI, PSRI, NDWI, EVI, TCBI, TCGI, TCWI, BAI_126, BAI_136, BAI_146, BAI_236, BAI_246, BAI_346, BLUE, GREEN, RED, NIR1, SWIR1, SWIR2, NDVI_smooth, DFI_smooth, NDTI_smooth, SATVI_smooth, NDII7_smooth, SAVI_smooth, RDVI_smooth, MTVI1_smooth, NCI_smooth, NDCI_smooth, PSRI_smooth, NDWI_smooth, EVI_smooth, TCBI_smooth, TCGI_smooth, TCWI_smooth, BAI_126_smooth, BAI_136_smooth, BAI_146_smooth, BAI_236_smooth, BAI_246_smooth, BAI_346_smooth, BLUE_smooth, GREEN_smooth, RED_smooth, NIR1_smooth, SWIR1_smooth, SWIR2_smooth]\n",
       "Index: []\n",
       "\n",
       "[0 rows x 58 columns]"
      ]
     },
     "execution_count": 24,
     "metadata": {},
     "output_type": "execute_result"
    }
   ],
   "source": [
    "df_yr_ts[df_yr_ts.duplicated(subset=[id_col, date_col], keep=False)].sort_values(id_col)"
   ]
  },
  {
   "cell_type": "code",
   "execution_count": 25,
   "id": "c208ca18-966f-4379-83cf-9701515921ef",
   "metadata": {},
   "outputs": [],
   "source": [
    "df_yr_ts = df_yr_ts.reset_index()"
   ]
  },
  {
   "cell_type": "code",
   "execution_count": 26,
   "id": "9b3cdf6a-35d2-4373-9148-7769065a19f4",
   "metadata": {},
   "outputs": [
    {
     "data": {
      "text/plain": [
       "<AxesSubplot:xlabel='Date', ylabel='SWIR1_smooth'>"
      ]
     },
     "execution_count": 26,
     "metadata": {},
     "output_type": "execute_result"
    },
    {
     "data": {
      "image/png": "[encoded data removed]",
      "text/plain": [
       "<Figure size 640x480 with 1 Axes>"
      ]
     },
     "metadata": {},
     "output_type": "display_data"
    }
   ],
   "source": [
    "plot = df_yr_ts[id_col].unique()[10]\n",
    "plot = '1_AD_2022'\n",
    "x_col = 'SWIR1'\n",
    "p = sns.lineplot(x=date_col, y=x_col + '_smooth', data=df_yr_ts[df_yr_ts[id_col] == plot])\n",
    "sns.scatterplot(x=date_col, y=x_col, data=df_yr[df_yr[id_col] == plot], ax=p)"
   ]
  },
  {
   "cell_type": "code",
   "execution_count": 27,
   "id": "12893ef8-d2ef-48d6-8949-d55652c6edde",
   "metadata": {},
   "outputs": [
    {
     "ename": "NameError",
     "evalue": "name 'df_out' is not defined",
     "output_type": "error",
     "traceback": [
      "\u001b[0;31m---------------------------------------------------------------------------\u001b[0m",
      "\u001b[0;31mNameError\u001b[0m                                 Traceback (most recent call last)",
      "Cell \u001b[0;32mIn[27], line 2\u001b[0m\n\u001b[1;32m      1\u001b[0m x_col \u001b[38;5;241m=\u001b[39m \u001b[38;5;124m'\u001b[39m\u001b[38;5;124mTCWI\u001b[39m\u001b[38;5;124m'\u001b[39m\n\u001b[0;32m----> 2\u001b[0m sns\u001b[38;5;241m.\u001b[39mscatterplot(x\u001b[38;5;241m=\u001b[39mx_col, y\u001b[38;5;241m=\u001b[39my_col, data\u001b[38;5;241m=\u001b[39m\u001b[43mdf_out\u001b[49m, alpha\u001b[38;5;241m=\u001b[39m\u001b[38;5;241m0.2\u001b[39m, linewidth\u001b[38;5;241m=\u001b[39m\u001b[38;5;241m0\u001b[39m, s\u001b[38;5;241m=\u001b[39m\u001b[38;5;241m10\u001b[39m)\n\u001b[1;32m      3\u001b[0m plt\u001b[38;5;241m.\u001b[39myscale(\u001b[38;5;124m'\u001b[39m\u001b[38;5;124mlog\u001b[39m\u001b[38;5;124m'\u001b[39m)\n",
      "\u001b[0;31mNameError\u001b[0m: name 'df_out' is not defined"
     ]
    }
   ],
   "source": [
    "x_col = 'TCWI'\n",
    "sns.scatterplot(x=x_col, y=y_col, data=df_out, alpha=0.2, linewidth=0, s=10)\n",
    "plt.yscale('log')"
   ]
  },
  {
   "cell_type": "code",
   "execution_count": null,
   "id": "2fc8ec9b-ee39-462f-ad3d-ad39a4b009cb",
   "metadata": {},
   "outputs": [],
   "source": [
    "fig, ax = plt.subplots(figsize=(10, 8))\n",
    "#sns.scatterplot(x=x_col, y=y_col, data=df_out, hue='Year', ax=ax)\n",
    "#df_out.apply(lambda x: ax.text(x[x_col],  x[y_col], x[id_col]), axis=1)\n",
    "#plt.yscale('log')"
   ]
  },
  {
   "cell_type": "code",
   "execution_count": null,
   "id": "a6e111d2-b527-4621-b4e6-9dfee483d335",
   "metadata": {},
   "outputs": [],
   "source": []
  }
 ],
 "metadata": {
  "kernelspec": {
   "display_name": "hls_nrt_env",
   "language": "python",
   "name": "hls_nrt_env"
  },
  "language_info": {
   "codemirror_mode": {
    "name": "ipython",
    "version": 3
   },
   "file_extension": ".py",
   "mimetype": "text/x-python",
   "name": "python",
   "nbconvert_exporter": "python",
   "pygments_lexer": "ipython3",
   "version": "3.9.12"
  }
 },
 "nbformat": 4,
 "nbformat_minor": 5
}
