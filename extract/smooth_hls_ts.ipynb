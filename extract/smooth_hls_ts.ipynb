{
 "cells": [
  {
   "cell_type": "code",
   "execution_count": 1,
   "id": "e8da3fef-f415-4c09-ab20-9a455524bf15",
   "metadata": {},
   "outputs": [
    {
     "name": "stderr",
     "output_type": "stream",
     "text": [
      "ERROR 1: PROJ: proj_create_from_database: Open of /project/cper_neon_aop/conda_envs/hls_nrt_env/share/proj failed\n"
     ]
    }
   ],
   "source": [
    "import numpy as np\n",
    "import os\n",
    "import re\n",
    "import pandas as pd\n",
    "import geopandas as gpd\n",
    "from datetime import datetime, timedelta\n",
    "from tqdm import tqdm\n",
    "tqdm.pandas()\n",
    "import time\n",
    "from hlsstack.hls_funcs.smooth import despike_ts, double_savgol\n",
    "import gc\n",
    "from glob import glob\n",
    "from itertools import chain\n",
    "import matplotlib.pyplot as plt\n",
    "import seaborn as sns"
   ]
  },
  {
   "cell_type": "code",
   "execution_count": 2,
   "id": "457ea626-9bd3-4c0b-b366-a4031276c77b",
   "metadata": {},
   "outputs": [],
   "source": [
    "import sys\n",
    "sys.path.insert(1, '/project/cper_neon_aop/hls_nrt/params')\n",
    "from ltar_jer_params_smooth import *"
   ]
  },
  {
   "cell_type": "code",
   "execution_count": 42,
   "id": "41a9df19-f177-4fdc-831b-25bfb39b0b5d",
   "metadata": {},
   "outputs": [],
   "source": [
    "from importlib import reload\n",
    "import sys\n",
    "reload(sys.modules[\"ltar_jer_params_smooth\"])\n",
    "from ltar_jer_params_smooth import *"
   ]
  },
  {
   "cell_type": "code",
   "execution_count": 43,
   "id": "d69266a0-57d4-4f58-8d9f-85d86ee17413",
   "metadata": {},
   "outputs": [],
   "source": [
    "def adapt_smooth(ts, dates, despike=True, dat_thresh=None):\n",
    "    ct_valid = sum(~np.isnan(ts))\n",
    "    ct_total = len(ts)\n",
    "    avg_gap = ct_total/ct_valid\n",
    "    if ct_valid > 0:\n",
    "        if avg_gap > 15:\n",
    "            despike = False\n",
    "        if despike:\n",
    "            if dat_thresh is None:\n",
    "                _dat_thresh = np.ptp(ts.values) * 0.10\n",
    "            else:\n",
    "                _dat_thresh = dat_thresh\n",
    "            ts_ds = despike_ts(ts.values, dat_thresh=_dat_thresh, days_thresh=45)\n",
    "        else:\n",
    "            ts_ds = ts.values\n",
    "        if avg_gap > 10:\n",
    "            ts_smooth = double_savgol(ts_ds, double=True, window1_max=7, window2=31, limit=91)\n",
    "        elif avg_gap > 7:\n",
    "             ts_smooth = double_savgol(ts_ds, double=True, window1_max=5, window2=41, limit=91)\n",
    "        elif avg_gap > 5:\n",
    "             ts_smooth = double_savgol(ts_ds, double=True, window1_max=5, window2=51, limit=91)\n",
    "        else:\n",
    "            ts_smooth = double_savgol(ts_ds, double=False, window2=51, limit=91)\n",
    "    else:\n",
    "        ts_smooth = ts\n",
    "    return pd.Series(ts_smooth, ts.index.get_level_values(-1))"
   ]
  },
  {
   "cell_type": "code",
   "execution_count": 45,
   "id": "a5905787-e74a-4db4-8008-bef1e799404d",
   "metadata": {},
   "outputs": [],
   "source": [
    "fLIST = glob(inPATH_wc)\n",
    "try:\n",
    "    df = pd.read_csv(inPATH_dat, parse_dates=[date_col])\n",
    "except ValueError:\n",
    "    df = pd.read_csv(inPATH_dat)"
   ]
  },
  {
   "cell_type": "code",
   "execution_count": 47,
   "id": "3f3f5f95-f3ad-4ae6-bcf4-f636df295989",
   "metadata": {},
   "outputs": [],
   "source": [
    "if preprocess is not None:\n",
    "    df = preprocess(df)"
   ]
  },
  {
   "cell_type": "code",
   "execution_count": 48,
   "id": "ff4e2427-8b1d-4672-915a-1f0d384a75bf",
   "metadata": {},
   "outputs": [
    {
     "data": {
      "text/html": [
       "<div>\n",
       "<style scoped>\n",
       "    .dataframe tbody tr th:only-of-type {\n",
       "        vertical-align: middle;\n",
       "    }\n",
       "\n",
       "    .dataframe tbody tr th {\n",
       "        vertical-align: top;\n",
       "    }\n",
       "\n",
       "    .dataframe thead th {\n",
       "        text-align: right;\n",
       "    }\n",
       "</style>\n",
       "<table border=\"1\" class=\"dataframe\">\n",
       "  <thead>\n",
       "    <tr style=\"text-align: right;\">\n",
       "      <th></th>\n",
       "      <th>year</th>\n",
       "      <th>site</th>\n",
       "      <th>zone</th>\n",
       "      <th>season</th>\n",
       "      <th>sampling_start</th>\n",
       "      <th>sampling_end</th>\n",
       "      <th>sampling_totalDays</th>\n",
       "      <th>quadrats</th>\n",
       "      <th>A_FORB</th>\n",
       "      <th>A_GRASS</th>\n",
       "      <th>...</th>\n",
       "      <th>P_S-SHR</th>\n",
       "      <th>P_SHRUB</th>\n",
       "      <th>P_ST-SU</th>\n",
       "      <th>UNK_FORB</th>\n",
       "      <th>UNK_GRASS</th>\n",
       "      <th>YUEL</th>\n",
       "      <th>pasture</th>\n",
       "      <th>UnitID</th>\n",
       "      <th>herb_kg_ha</th>\n",
       "      <th>Date</th>\n",
       "    </tr>\n",
       "  </thead>\n",
       "  <tbody>\n",
       "    <tr>\n",
       "      <th>134</th>\n",
       "      <td>2013</td>\n",
       "      <td>CDRRC Pasture 3</td>\n",
       "      <td>E</td>\n",
       "      <td>FALL</td>\n",
       "      <td>2013-10-22</td>\n",
       "      <td>2013-10-22</td>\n",
       "      <td>1</td>\n",
       "      <td>32</td>\n",
       "      <td>25.057980</td>\n",
       "      <td>8.058054</td>\n",
       "      <td>...</td>\n",
       "      <td>0.812518</td>\n",
       "      <td>47.649888</td>\n",
       "      <td>0.0</td>\n",
       "      <td>0.005467</td>\n",
       "      <td>0.0</td>\n",
       "      <td>0.000000</td>\n",
       "      <td>CP3N</td>\n",
       "      <td>CP3NE</td>\n",
       "      <td>660.901083</td>\n",
       "      <td>2013-10-22</td>\n",
       "    </tr>\n",
       "    <tr>\n",
       "      <th>135</th>\n",
       "      <td>2013</td>\n",
       "      <td>CDRRC Pasture 3</td>\n",
       "      <td>E</td>\n",
       "      <td>SPRING</td>\n",
       "      <td>2013-04-25</td>\n",
       "      <td>2013-04-25</td>\n",
       "      <td>1</td>\n",
       "      <td>32</td>\n",
       "      <td>0.000000</td>\n",
       "      <td>0.000000</td>\n",
       "      <td>...</td>\n",
       "      <td>0.000000</td>\n",
       "      <td>16.835537</td>\n",
       "      <td>0.0</td>\n",
       "      <td>0.000000</td>\n",
       "      <td>0.0</td>\n",
       "      <td>0.000000</td>\n",
       "      <td>CP3N</td>\n",
       "      <td>CP3NE</td>\n",
       "      <td>29.049387</td>\n",
       "      <td>2013-04-25</td>\n",
       "    </tr>\n",
       "    <tr>\n",
       "      <th>136</th>\n",
       "      <td>2013</td>\n",
       "      <td>CDRRC Pasture 3</td>\n",
       "      <td>G</td>\n",
       "      <td>FALL</td>\n",
       "      <td>2013-10-23</td>\n",
       "      <td>2013-10-23</td>\n",
       "      <td>1</td>\n",
       "      <td>32</td>\n",
       "      <td>47.745999</td>\n",
       "      <td>5.285760</td>\n",
       "      <td>...</td>\n",
       "      <td>0.000000</td>\n",
       "      <td>3.149081</td>\n",
       "      <td>0.0</td>\n",
       "      <td>0.006212</td>\n",
       "      <td>0.0</td>\n",
       "      <td>48.611075</td>\n",
       "      <td>CP3N</td>\n",
       "      <td>CP3NG</td>\n",
       "      <td>824.938208</td>\n",
       "      <td>2013-10-23</td>\n",
       "    </tr>\n",
       "    <tr>\n",
       "      <th>137</th>\n",
       "      <td>2013</td>\n",
       "      <td>CDRRC Pasture 3</td>\n",
       "      <td>G</td>\n",
       "      <td>SPRING</td>\n",
       "      <td>2013-04-25</td>\n",
       "      <td>2013-04-25</td>\n",
       "      <td>1</td>\n",
       "      <td>32</td>\n",
       "      <td>0.003655</td>\n",
       "      <td>0.000000</td>\n",
       "      <td>...</td>\n",
       "      <td>0.000000</td>\n",
       "      <td>2.077505</td>\n",
       "      <td>0.0</td>\n",
       "      <td>0.000000</td>\n",
       "      <td>0.0</td>\n",
       "      <td>24.243222</td>\n",
       "      <td>CP3N</td>\n",
       "      <td>CP3NG</td>\n",
       "      <td>29.520530</td>\n",
       "      <td>2013-04-25</td>\n",
       "    </tr>\n",
       "    <tr>\n",
       "      <th>138</th>\n",
       "      <td>2013</td>\n",
       "      <td>CDRRC Pasture 3</td>\n",
       "      <td>S</td>\n",
       "      <td>FALL</td>\n",
       "      <td>2013-10-25</td>\n",
       "      <td>2013-10-25</td>\n",
       "      <td>1</td>\n",
       "      <td>32</td>\n",
       "      <td>8.675120</td>\n",
       "      <td>6.869720</td>\n",
       "      <td>...</td>\n",
       "      <td>1.176315</td>\n",
       "      <td>43.818227</td>\n",
       "      <td>0.0</td>\n",
       "      <td>0.650871</td>\n",
       "      <td>0.0</td>\n",
       "      <td>3.158547</td>\n",
       "      <td>CP3N</td>\n",
       "      <td>CP3NS</td>\n",
       "      <td>315.524120</td>\n",
       "      <td>2013-10-25</td>\n",
       "    </tr>\n",
       "  </tbody>\n",
       "</table>\n",
       "<p>5 rows × 23 columns</p>\n",
       "</div>"
      ],
      "text/plain": [
       "     year             site zone  season sampling_start sampling_end  \\\n",
       "134  2013  CDRRC Pasture 3    E    FALL     2013-10-22   2013-10-22   \n",
       "135  2013  CDRRC Pasture 3    E  SPRING     2013-04-25   2013-04-25   \n",
       "136  2013  CDRRC Pasture 3    G    FALL     2013-10-23   2013-10-23   \n",
       "137  2013  CDRRC Pasture 3    G  SPRING     2013-04-25   2013-04-25   \n",
       "138  2013  CDRRC Pasture 3    S    FALL     2013-10-25   2013-10-25   \n",
       "\n",
       "     sampling_totalDays  quadrats     A_FORB   A_GRASS  ...   P_S-SHR  \\\n",
       "134                   1        32  25.057980  8.058054  ...  0.812518   \n",
       "135                   1        32   0.000000  0.000000  ...  0.000000   \n",
       "136                   1        32  47.745999  5.285760  ...  0.000000   \n",
       "137                   1        32   0.003655  0.000000  ...  0.000000   \n",
       "138                   1        32   8.675120  6.869720  ...  1.176315   \n",
       "\n",
       "       P_SHRUB  P_ST-SU  UNK_FORB  UNK_GRASS       YUEL  pasture  UnitID  \\\n",
       "134  47.649888      0.0  0.005467        0.0   0.000000     CP3N   CP3NE   \n",
       "135  16.835537      0.0  0.000000        0.0   0.000000     CP3N   CP3NE   \n",
       "136   3.149081      0.0  0.006212        0.0  48.611075     CP3N   CP3NG   \n",
       "137   2.077505      0.0  0.000000        0.0  24.243222     CP3N   CP3NG   \n",
       "138  43.818227      0.0  0.650871        0.0   3.158547     CP3N   CP3NS   \n",
       "\n",
       "     herb_kg_ha       Date  \n",
       "134  660.901083 2013-10-22  \n",
       "135   29.049387 2013-04-25  \n",
       "136  824.938208 2013-10-23  \n",
       "137   29.520530 2013-04-25  \n",
       "138  315.524120 2013-10-25  \n",
       "\n",
       "[5 rows x 23 columns]"
      ]
     },
     "execution_count": 48,
     "metadata": {},
     "output_type": "execute_result"
    }
   ],
   "source": [
    "df.head(5)"
   ]
  },
  {
   "cell_type": "code",
   "execution_count": 49,
   "id": "6afd8d80-d54d-492d-8cd5-27ec3164d4dc",
   "metadata": {},
   "outputs": [],
   "source": [
    "df_out = None"
   ]
  },
  {
   "cell_type": "code",
   "execution_count": 50,
   "id": "bf825c0b-cb66-4847-a9ff-6bf25c5b5837",
   "metadata": {},
   "outputs": [
    {
     "name": "stdout",
     "output_type": "stream",
     "text": [
      "2013\n",
      "Smoothing vegetation indices\n"
     ]
    },
    {
     "name": "stderr",
     "output_type": "stream",
     "text": [
      "100%|██████████| 22/22 [00:00<00:00, 28.49it/s]\n"
     ]
    },
    {
     "name": "stdout",
     "output_type": "stream",
     "text": [
      "Smoothing individual bands\n"
     ]
    },
    {
     "name": "stderr",
     "output_type": "stream",
     "text": [
      "100%|██████████| 6/6 [00:00<00:00, 59.47it/s]\n"
     ]
    },
    {
     "name": "stdout",
     "output_type": "stream",
     "text": [
      "2014\n",
      "Smoothing vegetation indices\n"
     ]
    },
    {
     "name": "stderr",
     "output_type": "stream",
     "text": [
      "100%|██████████| 22/22 [00:00<00:00, 51.29it/s]\n"
     ]
    },
    {
     "name": "stdout",
     "output_type": "stream",
     "text": [
      "Smoothing individual bands\n"
     ]
    },
    {
     "name": "stderr",
     "output_type": "stream",
     "text": [
      "100%|██████████| 6/6 [00:00<00:00, 51.45it/s]\n"
     ]
    },
    {
     "name": "stdout",
     "output_type": "stream",
     "text": [
      "2015\n",
      "Smoothing vegetation indices\n"
     ]
    },
    {
     "name": "stderr",
     "output_type": "stream",
     "text": [
      "100%|██████████| 22/22 [00:00<00:00, 48.53it/s]\n"
     ]
    },
    {
     "name": "stdout",
     "output_type": "stream",
     "text": [
      "Smoothing individual bands\n"
     ]
    },
    {
     "name": "stderr",
     "output_type": "stream",
     "text": [
      "100%|██████████| 6/6 [00:00<00:00, 51.15it/s]\n"
     ]
    },
    {
     "name": "stdout",
     "output_type": "stream",
     "text": [
      "2016\n",
      "Smoothing vegetation indices\n"
     ]
    },
    {
     "name": "stderr",
     "output_type": "stream",
     "text": [
      "100%|██████████| 22/22 [00:00<00:00, 23.34it/s]\n"
     ]
    },
    {
     "name": "stdout",
     "output_type": "stream",
     "text": [
      "Smoothing individual bands\n"
     ]
    },
    {
     "name": "stderr",
     "output_type": "stream",
     "text": [
      "100%|██████████| 6/6 [00:00<00:00, 22.61it/s]\n"
     ]
    },
    {
     "name": "stdout",
     "output_type": "stream",
     "text": [
      "2017\n",
      "Smoothing vegetation indices\n"
     ]
    },
    {
     "name": "stderr",
     "output_type": "stream",
     "text": [
      "100%|██████████| 22/22 [00:01<00:00, 18.76it/s]\n"
     ]
    },
    {
     "name": "stdout",
     "output_type": "stream",
     "text": [
      "Smoothing individual bands\n"
     ]
    },
    {
     "name": "stderr",
     "output_type": "stream",
     "text": [
      "100%|██████████| 6/6 [00:00<00:00, 19.18it/s]\n"
     ]
    },
    {
     "name": "stdout",
     "output_type": "stream",
     "text": [
      "2018\n",
      "Smoothing vegetation indices\n"
     ]
    },
    {
     "name": "stderr",
     "output_type": "stream",
     "text": [
      "100%|██████████| 22/22 [00:01<00:00, 16.35it/s]\n"
     ]
    },
    {
     "name": "stdout",
     "output_type": "stream",
     "text": [
      "Smoothing individual bands\n"
     ]
    },
    {
     "name": "stderr",
     "output_type": "stream",
     "text": [
      "100%|██████████| 6/6 [00:00<00:00, 16.33it/s]\n"
     ]
    },
    {
     "name": "stdout",
     "output_type": "stream",
     "text": [
      "2019\n",
      "Smoothing vegetation indices\n"
     ]
    },
    {
     "name": "stderr",
     "output_type": "stream",
     "text": [
      "100%|██████████| 22/22 [00:01<00:00, 15.54it/s]\n"
     ]
    },
    {
     "name": "stdout",
     "output_type": "stream",
     "text": [
      "Smoothing individual bands\n"
     ]
    },
    {
     "name": "stderr",
     "output_type": "stream",
     "text": [
      "100%|██████████| 6/6 [00:00<00:00, 16.03it/s]\n"
     ]
    },
    {
     "name": "stdout",
     "output_type": "stream",
     "text": [
      "2020\n",
      "Smoothing vegetation indices\n"
     ]
    },
    {
     "name": "stderr",
     "output_type": "stream",
     "text": [
      "100%|██████████| 22/22 [00:01<00:00, 15.82it/s]\n"
     ]
    },
    {
     "name": "stdout",
     "output_type": "stream",
     "text": [
      "Smoothing individual bands\n"
     ]
    },
    {
     "name": "stderr",
     "output_type": "stream",
     "text": [
      "100%|██████████| 6/6 [00:00<00:00, 15.84it/s]\n"
     ]
    },
    {
     "name": "stdout",
     "output_type": "stream",
     "text": [
      "2021\n",
      "Smoothing vegetation indices\n"
     ]
    },
    {
     "name": "stderr",
     "output_type": "stream",
     "text": [
      "100%|██████████| 22/22 [00:01<00:00, 16.91it/s]\n"
     ]
    },
    {
     "name": "stdout",
     "output_type": "stream",
     "text": [
      "Smoothing individual bands\n"
     ]
    },
    {
     "name": "stderr",
     "output_type": "stream",
     "text": [
      "100%|██████████| 6/6 [00:00<00:00, 16.97it/s]\n"
     ]
    },
    {
     "name": "stdout",
     "output_type": "stream",
     "text": [
      "2022\n",
      "Smoothing vegetation indices\n"
     ]
    },
    {
     "name": "stderr",
     "output_type": "stream",
     "text": [
      "100%|██████████| 22/22 [00:01<00:00, 16.15it/s]\n"
     ]
    },
    {
     "name": "stdout",
     "output_type": "stream",
     "text": [
      "Smoothing individual bands\n"
     ]
    },
    {
     "name": "stderr",
     "output_type": "stream",
     "text": [
      "100%|██████████| 6/6 [00:00<00:00, 16.11it/s]\n"
     ]
    },
    {
     "name": "stdout",
     "output_type": "stream",
     "text": [
      "2023\n",
      "Smoothing vegetation indices\n"
     ]
    },
    {
     "name": "stderr",
     "output_type": "stream",
     "text": [
      "100%|██████████| 22/22 [00:01<00:00, 15.07it/s]\n"
     ]
    },
    {
     "name": "stdout",
     "output_type": "stream",
     "text": [
      "Smoothing individual bands\n"
     ]
    },
    {
     "name": "stderr",
     "output_type": "stream",
     "text": [
      "100%|██████████| 6/6 [00:00<00:00, 15.63it/s]\n"
     ]
    }
   ],
   "source": [
    "for yr in df[date_col].dt.year.unique():\n",
    "    print(yr)\n",
    "\n",
    "    # get list of files that match year based on path\n",
    "    fLIST_yr = [x for x in fLIST if str(yr) in os.path.basename(x).split('_')]\n",
    "\n",
    "    # combine all individual tile files into one dataframe\n",
    "    df_yr = pd.concat([pd.read_csv(x, parse_dates=[1]) for x in fLIST_yr])\n",
    "    \n",
    "    # rename columns to match ground data\n",
    "    df_yr = df_yr.rename(columns={'time': date_col,\n",
    "                                  'Plot': id_col})\n",
    "    \n",
    "    # convert date to datetime\n",
    "    df_yr[date_col] = pd.to_datetime(df_yr[date_col])\n",
    "    \n",
    "    # remove all non-plot data\n",
    "    #df_yr = df_yr[df_yr[id_col] != 'UNK']\n",
    "    \n",
    "    # remove any dates where bands are negative\n",
    "    df_yr = df_yr[~((df_yr[band_list] < 0).any(axis=1))]\n",
    "\n",
    "    # drop any duplicates by taking mean for each plot and date (might exist e.g., from plot on edge of tile during extraction)\n",
    "    df_yr = df_yr.groupby([id_col, date_col]).mean().reset_index()\n",
    "    \n",
    "    # get missing dates for gap-filling\n",
    "    dates_missing = [x for x in pd.date_range(df_yr[date_col].min(), df_yr[date_col].max()).date if x not in df_yr[date_col].dt.date.unique()]\n",
    "    \n",
    "    # convert missing dates to a dataframe for combining with veg index data\n",
    "    df_missing = pd.DataFrame({\n",
    "        id_col: list(chain.from_iterable([list(np.repeat(x, len(dates_missing))) for x in df_yr[id_col].unique()])),\n",
    "        date_col: list(chain.from_iterable(dates_missing for x in df_yr[id_col].unique()))})\n",
    "    \n",
    "    df_missing[date_col] = pd.to_datetime(df_missing[date_col])\n",
    "    \n",
    "    # combine into one dataframe for gapfilling\n",
    "    df_yr_ts = pd.concat([df_yr, df_missing]).sort_values([id_col, date_col])\n",
    "    \n",
    "    # apply Bolton mask to extracted values\n",
    "    if mask_bolton_by_id:\n",
    "        ps_bolton = df_yr_ts.groupby(id_col).progress_apply(lambda x: bolton_mask_np(x['BLUE'], x['SWIR2']))\n",
    "        df_yr_ts.loc[df_yr_ts[ps_bolton.droplevel(0) == 1.0].index, list(veg_dict.keys()) + band_list] = np.nan\n",
    "    \n",
    "    # smooth all vegetation indices to gapfill\n",
    "    print('Smoothing vegetation indices')\n",
    "    for vegidx in tqdm(veg_list):\n",
    "        #df_yr_ts[vegidx + '_smooth'] = df_yr_ts.groupby(id_col)[vegidx].transform(lambda x: double_savgol(x.values))\n",
    "        vals_smooth_yr = df_yr_ts.groupby(id_col).apply(lambda x: adapt_smooth(x[vegidx], pd.to_datetime(x[date_col])))\n",
    "        if vals_smooth_yr.index.nlevels > 1:\n",
    "            df_yr_ts[vegidx + '_smooth'] = vals_smooth_yr.droplevel(list(np.arange(vals_smooth_yr.index.nlevels-1)))\n",
    "        else:\n",
    "            df_yr_ts[vegidx + '_smooth'] = vals_smooth_yr.values.squeeze()\n",
    "    print('Smoothing individual bands')\n",
    "    for band in tqdm(band_list):\n",
    "        #df_yr_ts[band + '_smooth'] = df_yr_ts.groupby(id_col)[band].transform(lambda x: double_savgol(x.values))\n",
    "        vals_smooth_yr = df_yr_ts.groupby(id_col).apply(lambda x: adapt_smooth(x[band], pd.to_datetime(x[date_col])))\n",
    "        if vals_smooth_yr.index.nlevels > 1:\n",
    "            df_yr_ts[band + '_smooth'] = vals_smooth_yr.droplevel(list(np.arange(vals_smooth_yr.index.nlevels-1)))\n",
    "        else:\n",
    "            df_yr_ts[band + '_smooth'] = vals_smooth_yr.values.squeeze()\n",
    "    \n",
    "    # rename smoothed columns and drop originals\n",
    "    df_yr_ts = df_yr_ts.drop(columns=veg_list + band_list)\n",
    "    col_rename_dict = {c: re.sub('_smooth', '', c) for c in df_yr_ts.columns if '_smooth' in c}\n",
    "    df_yr_ts = df_yr_ts.rename(columns=col_rename_dict)\n",
    "\n",
    "    # merge with the ground data\n",
    "    df_out_yr = pd.merge(df[df[date_col].dt.year == yr], \n",
    "                         df_yr_ts[[id_col, date_col] + veg_list + band_list], \n",
    "                         on=[id_col, date_col],\n",
    "                         how='left')\n",
    "\n",
    "    # create or append to final output\n",
    "    if df_out is not None:\n",
    "        # merge with existing ouptput dataset\n",
    "        df_out = pd.concat([df_out, df_out_yr])\n",
    "    else:\n",
    "        # create output dataset\n",
    "        df_out = df_out_yr.copy()"
   ]
  },
  {
   "cell_type": "code",
   "execution_count": 51,
   "id": "c9464d68-8412-4e9c-98a4-047d2533eecb",
   "metadata": {},
   "outputs": [
    {
     "data": {
      "text/html": [
       "<div>\n",
       "<style scoped>\n",
       "    .dataframe tbody tr th:only-of-type {\n",
       "        vertical-align: middle;\n",
       "    }\n",
       "\n",
       "    .dataframe tbody tr th {\n",
       "        vertical-align: top;\n",
       "    }\n",
       "\n",
       "    .dataframe thead th {\n",
       "        text-align: right;\n",
       "    }\n",
       "</style>\n",
       "<table border=\"1\" class=\"dataframe\">\n",
       "  <thead>\n",
       "    <tr style=\"text-align: right;\">\n",
       "      <th></th>\n",
       "      <th>year</th>\n",
       "      <th>site</th>\n",
       "      <th>zone</th>\n",
       "      <th>season</th>\n",
       "      <th>sampling_start</th>\n",
       "      <th>sampling_end</th>\n",
       "      <th>sampling_totalDays</th>\n",
       "      <th>quadrats</th>\n",
       "      <th>A_FORB</th>\n",
       "      <th>A_GRASS</th>\n",
       "      <th>...</th>\n",
       "      <th>BAI_146</th>\n",
       "      <th>BAI_236</th>\n",
       "      <th>BAI_246</th>\n",
       "      <th>BAI_346</th>\n",
       "      <th>BLUE</th>\n",
       "      <th>GREEN</th>\n",
       "      <th>RED</th>\n",
       "      <th>NIR1</th>\n",
       "      <th>SWIR1</th>\n",
       "      <th>SWIR2</th>\n",
       "    </tr>\n",
       "  </thead>\n",
       "  <tbody>\n",
       "    <tr>\n",
       "      <th>0</th>\n",
       "      <td>2013</td>\n",
       "      <td>CDRRC Pasture 3</td>\n",
       "      <td>E</td>\n",
       "      <td>FALL</td>\n",
       "      <td>2013-10-22</td>\n",
       "      <td>2013-10-22</td>\n",
       "      <td>1</td>\n",
       "      <td>32</td>\n",
       "      <td>25.057980</td>\n",
       "      <td>8.058054</td>\n",
       "      <td>...</td>\n",
       "      <td>113.459349</td>\n",
       "      <td>130.637941</td>\n",
       "      <td>112.802635</td>\n",
       "      <td>112.088570</td>\n",
       "      <td>759.362976</td>\n",
       "      <td>1247.499091</td>\n",
       "      <td>1851.627414</td>\n",
       "      <td>3392.897164</td>\n",
       "      <td>3430.151494</td>\n",
       "      <td>2739.368090</td>\n",
       "    </tr>\n",
       "    <tr>\n",
       "      <th>1</th>\n",
       "      <td>2013</td>\n",
       "      <td>CDRRC Pasture 3</td>\n",
       "      <td>E</td>\n",
       "      <td>SPRING</td>\n",
       "      <td>2013-04-25</td>\n",
       "      <td>2013-04-25</td>\n",
       "      <td>1</td>\n",
       "      <td>32</td>\n",
       "      <td>0.000000</td>\n",
       "      <td>0.000000</td>\n",
       "      <td>...</td>\n",
       "      <td>134.064732</td>\n",
       "      <td>129.139610</td>\n",
       "      <td>136.155268</td>\n",
       "      <td>146.374845</td>\n",
       "      <td>993.505859</td>\n",
       "      <td>1581.433594</td>\n",
       "      <td>2423.125000</td>\n",
       "      <td>3199.978516</td>\n",
       "      <td>4248.328125</td>\n",
       "      <td>4054.548828</td>\n",
       "    </tr>\n",
       "    <tr>\n",
       "      <th>2</th>\n",
       "      <td>2013</td>\n",
       "      <td>CDRRC Pasture 3</td>\n",
       "      <td>G</td>\n",
       "      <td>FALL</td>\n",
       "      <td>2013-10-23</td>\n",
       "      <td>2013-10-23</td>\n",
       "      <td>1</td>\n",
       "      <td>32</td>\n",
       "      <td>47.745999</td>\n",
       "      <td>5.285760</td>\n",
       "      <td>...</td>\n",
       "      <td>111.787913</td>\n",
       "      <td>132.514029</td>\n",
       "      <td>110.941515</td>\n",
       "      <td>109.400772</td>\n",
       "      <td>763.554355</td>\n",
       "      <td>1227.710215</td>\n",
       "      <td>1764.185706</td>\n",
       "      <td>3345.240564</td>\n",
       "      <td>3288.044170</td>\n",
       "      <td>2476.585911</td>\n",
       "    </tr>\n",
       "    <tr>\n",
       "      <th>3</th>\n",
       "      <td>2013</td>\n",
       "      <td>CDRRC Pasture 3</td>\n",
       "      <td>G</td>\n",
       "      <td>SPRING</td>\n",
       "      <td>2013-04-25</td>\n",
       "      <td>2013-04-25</td>\n",
       "      <td>1</td>\n",
       "      <td>32</td>\n",
       "      <td>0.003655</td>\n",
       "      <td>0.000000</td>\n",
       "      <td>...</td>\n",
       "      <td>133.015548</td>\n",
       "      <td>129.008011</td>\n",
       "      <td>135.596815</td>\n",
       "      <td>145.480348</td>\n",
       "      <td>1135.212121</td>\n",
       "      <td>1764.219697</td>\n",
       "      <td>2597.839015</td>\n",
       "      <td>3384.662879</td>\n",
       "      <td>4398.956439</td>\n",
       "      <td>4191.200758</td>\n",
       "    </tr>\n",
       "    <tr>\n",
       "      <th>4</th>\n",
       "      <td>2013</td>\n",
       "      <td>CDRRC Pasture 3</td>\n",
       "      <td>S</td>\n",
       "      <td>FALL</td>\n",
       "      <td>2013-10-25</td>\n",
       "      <td>2013-10-25</td>\n",
       "      <td>1</td>\n",
       "      <td>32</td>\n",
       "      <td>8.675120</td>\n",
       "      <td>6.869720</td>\n",
       "      <td>...</td>\n",
       "      <td>120.515267</td>\n",
       "      <td>129.127841</td>\n",
       "      <td>120.770896</td>\n",
       "      <td>122.510752</td>\n",
       "      <td>814.471282</td>\n",
       "      <td>1334.083181</td>\n",
       "      <td>2002.945248</td>\n",
       "      <td>3229.836366</td>\n",
       "      <td>3541.966432</td>\n",
       "      <td>3037.093667</td>\n",
       "    </tr>\n",
       "  </tbody>\n",
       "</table>\n",
       "<p>5 rows × 51 columns</p>\n",
       "</div>"
      ],
      "text/plain": [
       "   year             site zone  season sampling_start sampling_end  \\\n",
       "0  2013  CDRRC Pasture 3    E    FALL     2013-10-22   2013-10-22   \n",
       "1  2013  CDRRC Pasture 3    E  SPRING     2013-04-25   2013-04-25   \n",
       "2  2013  CDRRC Pasture 3    G    FALL     2013-10-23   2013-10-23   \n",
       "3  2013  CDRRC Pasture 3    G  SPRING     2013-04-25   2013-04-25   \n",
       "4  2013  CDRRC Pasture 3    S    FALL     2013-10-25   2013-10-25   \n",
       "\n",
       "   sampling_totalDays  quadrats     A_FORB   A_GRASS  ...     BAI_146  \\\n",
       "0                   1        32  25.057980  8.058054  ...  113.459349   \n",
       "1                   1        32   0.000000  0.000000  ...  134.064732   \n",
       "2                   1        32  47.745999  5.285760  ...  111.787913   \n",
       "3                   1        32   0.003655  0.000000  ...  133.015548   \n",
       "4                   1        32   8.675120  6.869720  ...  120.515267   \n",
       "\n",
       "      BAI_236     BAI_246     BAI_346         BLUE        GREEN          RED  \\\n",
       "0  130.637941  112.802635  112.088570   759.362976  1247.499091  1851.627414   \n",
       "1  129.139610  136.155268  146.374845   993.505859  1581.433594  2423.125000   \n",
       "2  132.514029  110.941515  109.400772   763.554355  1227.710215  1764.185706   \n",
       "3  129.008011  135.596815  145.480348  1135.212121  1764.219697  2597.839015   \n",
       "4  129.127841  120.770896  122.510752   814.471282  1334.083181  2002.945248   \n",
       "\n",
       "          NIR1        SWIR1        SWIR2  \n",
       "0  3392.897164  3430.151494  2739.368090  \n",
       "1  3199.978516  4248.328125  4054.548828  \n",
       "2  3345.240564  3288.044170  2476.585911  \n",
       "3  3384.662879  4398.956439  4191.200758  \n",
       "4  3229.836366  3541.966432  3037.093667  \n",
       "\n",
       "[5 rows x 51 columns]"
      ]
     },
     "execution_count": 51,
     "metadata": {},
     "output_type": "execute_result"
    }
   ],
   "source": [
    "df_out.head(5)"
   ]
  },
  {
   "cell_type": "code",
   "execution_count": 52,
   "id": "cc06657a-d27e-481d-9f80-30e7cfcc898f",
   "metadata": {},
   "outputs": [
    {
     "data": {
      "text/html": [
       "<div>\n",
       "<style scoped>\n",
       "    .dataframe tbody tr th:only-of-type {\n",
       "        vertical-align: middle;\n",
       "    }\n",
       "\n",
       "    .dataframe tbody tr th {\n",
       "        vertical-align: top;\n",
       "    }\n",
       "\n",
       "    .dataframe thead th {\n",
       "        text-align: right;\n",
       "    }\n",
       "</style>\n",
       "<table border=\"1\" class=\"dataframe\">\n",
       "  <thead>\n",
       "    <tr style=\"text-align: right;\">\n",
       "      <th></th>\n",
       "      <th>year</th>\n",
       "      <th>site</th>\n",
       "      <th>zone</th>\n",
       "      <th>season</th>\n",
       "      <th>sampling_start</th>\n",
       "      <th>sampling_end</th>\n",
       "      <th>sampling_totalDays</th>\n",
       "      <th>quadrats</th>\n",
       "      <th>A_FORB</th>\n",
       "      <th>A_GRASS</th>\n",
       "      <th>...</th>\n",
       "      <th>BAI_146</th>\n",
       "      <th>BAI_236</th>\n",
       "      <th>BAI_246</th>\n",
       "      <th>BAI_346</th>\n",
       "      <th>BLUE</th>\n",
       "      <th>GREEN</th>\n",
       "      <th>RED</th>\n",
       "      <th>NIR1</th>\n",
       "      <th>SWIR1</th>\n",
       "      <th>SWIR2</th>\n",
       "    </tr>\n",
       "  </thead>\n",
       "  <tbody>\n",
       "    <tr>\n",
       "      <th>2</th>\n",
       "      <td>2015</td>\n",
       "      <td>CDRRC Pasture 3</td>\n",
       "      <td>G</td>\n",
       "      <td>FALL</td>\n",
       "      <td>2015-10-07</td>\n",
       "      <td>2015-10-08</td>\n",
       "      <td>2</td>\n",
       "      <td>32</td>\n",
       "      <td>12.119098</td>\n",
       "      <td>0.294313</td>\n",
       "      <td>...</td>\n",
       "      <td>NaN</td>\n",
       "      <td>NaN</td>\n",
       "      <td>NaN</td>\n",
       "      <td>NaN</td>\n",
       "      <td>NaN</td>\n",
       "      <td>NaN</td>\n",
       "      <td>NaN</td>\n",
       "      <td>NaN</td>\n",
       "      <td>NaN</td>\n",
       "      <td>NaN</td>\n",
       "    </tr>\n",
       "    <tr>\n",
       "      <th>3</th>\n",
       "      <td>2015</td>\n",
       "      <td>CDRRC Pasture 3</td>\n",
       "      <td>G</td>\n",
       "      <td>SPRING</td>\n",
       "      <td>2015-04-22</td>\n",
       "      <td>2015-04-23</td>\n",
       "      <td>2</td>\n",
       "      <td>32</td>\n",
       "      <td>12.985366</td>\n",
       "      <td>0.000000</td>\n",
       "      <td>...</td>\n",
       "      <td>NaN</td>\n",
       "      <td>NaN</td>\n",
       "      <td>NaN</td>\n",
       "      <td>NaN</td>\n",
       "      <td>NaN</td>\n",
       "      <td>NaN</td>\n",
       "      <td>NaN</td>\n",
       "      <td>NaN</td>\n",
       "      <td>NaN</td>\n",
       "      <td>NaN</td>\n",
       "    </tr>\n",
       "  </tbody>\n",
       "</table>\n",
       "<p>2 rows × 51 columns</p>\n",
       "</div>"
      ],
      "text/plain": [
       "   year             site zone  season sampling_start sampling_end  \\\n",
       "2  2015  CDRRC Pasture 3    G    FALL     2015-10-07   2015-10-08   \n",
       "3  2015  CDRRC Pasture 3    G  SPRING     2015-04-22   2015-04-23   \n",
       "\n",
       "   sampling_totalDays  quadrats     A_FORB   A_GRASS  ...  BAI_146  BAI_236  \\\n",
       "2                   2        32  12.119098  0.294313  ...      NaN      NaN   \n",
       "3                   2        32  12.985366  0.000000  ...      NaN      NaN   \n",
       "\n",
       "   BAI_246  BAI_346  BLUE  GREEN  RED  NIR1  SWIR1 SWIR2  \n",
       "2      NaN      NaN   NaN    NaN  NaN   NaN    NaN   NaN  \n",
       "3      NaN      NaN   NaN    NaN  NaN   NaN    NaN   NaN  \n",
       "\n",
       "[2 rows x 51 columns]"
      ]
     },
     "execution_count": 52,
     "metadata": {},
     "output_type": "execute_result"
    }
   ],
   "source": [
    "# look for any missing data\n",
    "df_out[df_out['NDVI'].isnull()].sort_values(id_col)"
   ]
  },
  {
   "cell_type": "code",
   "execution_count": 53,
   "id": "c5de00a1-8b2d-4486-9698-2700d3bef9c4",
   "metadata": {},
   "outputs": [
    {
     "data": {
      "text/html": [
       "<div>\n",
       "<style scoped>\n",
       "    .dataframe tbody tr th:only-of-type {\n",
       "        vertical-align: middle;\n",
       "    }\n",
       "\n",
       "    .dataframe tbody tr th {\n",
       "        vertical-align: top;\n",
       "    }\n",
       "\n",
       "    .dataframe thead th {\n",
       "        text-align: right;\n",
       "    }\n",
       "</style>\n",
       "<table border=\"1\" class=\"dataframe\">\n",
       "  <thead>\n",
       "    <tr style=\"text-align: right;\">\n",
       "      <th></th>\n",
       "      <th>year</th>\n",
       "      <th>site</th>\n",
       "      <th>zone</th>\n",
       "      <th>season</th>\n",
       "      <th>sampling_start</th>\n",
       "      <th>sampling_end</th>\n",
       "      <th>sampling_totalDays</th>\n",
       "      <th>quadrats</th>\n",
       "      <th>A_FORB</th>\n",
       "      <th>A_GRASS</th>\n",
       "      <th>...</th>\n",
       "      <th>BAI_146</th>\n",
       "      <th>BAI_236</th>\n",
       "      <th>BAI_246</th>\n",
       "      <th>BAI_346</th>\n",
       "      <th>BLUE</th>\n",
       "      <th>GREEN</th>\n",
       "      <th>RED</th>\n",
       "      <th>NIR1</th>\n",
       "      <th>SWIR1</th>\n",
       "      <th>SWIR2</th>\n",
       "    </tr>\n",
       "  </thead>\n",
       "  <tbody>\n",
       "  </tbody>\n",
       "</table>\n",
       "<p>0 rows × 51 columns</p>\n",
       "</div>"
      ],
      "text/plain": [
       "Empty DataFrame\n",
       "Columns: [year, site, zone, season, sampling_start, sampling_end, sampling_totalDays, quadrats, A_FORB, A_GRASS, P_FORB, P_GRASS, P_LF-SU, P_S-SHR, P_SHRUB, P_ST-SU, UNK_FORB, UNK_GRASS, YUEL, pasture, UnitID, herb_kg_ha, Date, NDVI, DFI, NDTI, SATVI, NDII7, SAVI, RDVI, MTVI1, NCI, NDCI, PSRI, NDWI, EVI, TCBI, TCGI, TCWI, BAI_126, BAI_136, BAI_146, BAI_236, BAI_246, BAI_346, BLUE, GREEN, RED, NIR1, SWIR1, SWIR2]\n",
       "Index: []\n",
       "\n",
       "[0 rows x 51 columns]"
      ]
     },
     "execution_count": 53,
     "metadata": {},
     "output_type": "execute_result"
    }
   ],
   "source": [
    "# look for any duplicated ID's\n",
    "df_out[df_out.duplicated(subset=[id_col, date_col], keep=False)].sort_values(id_col)"
   ]
  },
  {
   "cell_type": "code",
   "execution_count": 54,
   "id": "ebf5bd6a-1b04-45e8-a407-e361c82a72a7",
   "metadata": {},
   "outputs": [
    {
     "data": {
      "text/html": [
       "<div>\n",
       "<style scoped>\n",
       "    .dataframe tbody tr th:only-of-type {\n",
       "        vertical-align: middle;\n",
       "    }\n",
       "\n",
       "    .dataframe tbody tr th {\n",
       "        vertical-align: top;\n",
       "    }\n",
       "\n",
       "    .dataframe thead th {\n",
       "        text-align: right;\n",
       "    }\n",
       "</style>\n",
       "<table border=\"1\" class=\"dataframe\">\n",
       "  <thead>\n",
       "    <tr style=\"text-align: right;\">\n",
       "      <th></th>\n",
       "      <th>year</th>\n",
       "      <th>site</th>\n",
       "      <th>zone</th>\n",
       "      <th>season</th>\n",
       "      <th>sampling_start</th>\n",
       "      <th>sampling_end</th>\n",
       "      <th>sampling_totalDays</th>\n",
       "      <th>quadrats</th>\n",
       "      <th>A_FORB</th>\n",
       "      <th>A_GRASS</th>\n",
       "      <th>...</th>\n",
       "      <th>BAI_146</th>\n",
       "      <th>BAI_236</th>\n",
       "      <th>BAI_246</th>\n",
       "      <th>BAI_346</th>\n",
       "      <th>BLUE</th>\n",
       "      <th>GREEN</th>\n",
       "      <th>RED</th>\n",
       "      <th>NIR1</th>\n",
       "      <th>SWIR1</th>\n",
       "      <th>SWIR2</th>\n",
       "    </tr>\n",
       "  </thead>\n",
       "  <tbody>\n",
       "  </tbody>\n",
       "</table>\n",
       "<p>0 rows × 51 columns</p>\n",
       "</div>"
      ],
      "text/plain": [
       "Empty DataFrame\n",
       "Columns: [year, site, zone, season, sampling_start, sampling_end, sampling_totalDays, quadrats, A_FORB, A_GRASS, P_FORB, P_GRASS, P_LF-SU, P_S-SHR, P_SHRUB, P_ST-SU, UNK_FORB, UNK_GRASS, YUEL, pasture, UnitID, herb_kg_ha, Date, NDVI, DFI, NDTI, SATVI, NDII7, SAVI, RDVI, MTVI1, NCI, NDCI, PSRI, NDWI, EVI, TCBI, TCGI, TCWI, BAI_126, BAI_136, BAI_146, BAI_236, BAI_246, BAI_346, BLUE, GREEN, RED, NIR1, SWIR1, SWIR2]\n",
       "Index: []\n",
       "\n",
       "[0 rows x 51 columns]"
      ]
     },
     "execution_count": 54,
     "metadata": {},
     "output_type": "execute_result"
    }
   ],
   "source": [
    "# look for any duplicated ID's\n",
    "df_out[df_out.duplicated(subset=[id_col, date_col, 'NDVI'], keep=False)].sort_values(id_col)"
   ]
  },
  {
   "cell_type": "code",
   "execution_count": 55,
   "id": "265f5a71-0051-40ff-9021-80723e1fb69f",
   "metadata": {},
   "outputs": [],
   "source": [
    "# get mean or drop duplicated ID's\n",
    "#df_out = df_out.drop_duplicates(subset=[id_col, date_col], keep='first')"
   ]
  },
  {
   "cell_type": "code",
   "execution_count": 56,
   "id": "042e8034-f4da-414a-aedd-9bd85c50e932",
   "metadata": {},
   "outputs": [],
   "source": [
    "df_out.to_csv(outPATH, index=False)"
   ]
  },
  {
   "cell_type": "code",
   "execution_count": null,
   "id": "a6e111d2-b527-4621-b4e6-9dfee483d335",
   "metadata": {},
   "outputs": [],
   "source": []
  }
 ],
 "metadata": {
  "kernelspec": {
   "display_name": "hls_nrt_env",
   "language": "python",
   "name": "hls_nrt_env"
  },
  "language_info": {
   "codemirror_mode": {
    "name": "ipython",
    "version": 3
   },
   "file_extension": ".py",
   "mimetype": "text/x-python",
   "name": "python",
   "nbconvert_exporter": "python",
   "pygments_lexer": "ipython3",
   "version": "3.9.12"
  }
 },
 "nbformat": 4,
 "nbformat_minor": 5
}
