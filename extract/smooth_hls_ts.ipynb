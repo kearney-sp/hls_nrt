{
 "cells": [
  {
   "cell_type": "code",
   "execution_count": 1,
   "id": "e8da3fef-f415-4c09-ab20-9a455524bf15",
   "metadata": {},
   "outputs": [
    {
     "name": "stderr",
     "output_type": "stream",
     "text": [
      "ERROR 1: PROJ: proj_create_from_database: Open of /project/cper_neon_aop/conda_envs/hls_nrt_env/share/proj failed\n"
     ]
    }
   ],
   "source": [
    "import numpy as np\n",
    "import os\n",
    "import re\n",
    "import pandas as pd\n",
    "import geopandas as gpd\n",
    "from datetime import datetime, timedelta\n",
    "from tqdm import tqdm\n",
    "tqdm.pandas()\n",
    "import time\n",
    "from hlsstack.hls_funcs.smooth import despike_ts, double_savgol\n",
    "import gc\n",
    "from glob import glob\n",
    "from itertools import chain\n",
    "import matplotlib.pyplot as plt\n",
    "import seaborn as sns"
   ]
  },
  {
   "cell_type": "code",
   "execution_count": 12,
   "id": "457ea626-9bd3-4c0b-b366-a4031276c77b",
   "metadata": {},
   "outputs": [],
   "source": [
    "import sys\n",
    "sys.path.insert(1, '/project/cper_neon_aop/hls_nrt/params')\n",
    "from ltar_reno_params_smooth import *"
   ]
  },
  {
   "cell_type": "code",
   "execution_count": 11,
   "id": "41a9df19-f177-4fdc-831b-25bfb39b0b5d",
   "metadata": {},
   "outputs": [
    {
     "data": {
      "text/plain": [
       "<module 'ltar_reno_params_smooth' from '/project/cper_neon_aop/hls_nrt/params/ltar_reno_params_smooth.py'>"
      ]
     },
     "execution_count": 11,
     "metadata": {},
     "output_type": "execute_result"
    }
   ],
   "source": [
    "#from importlib import reload\n",
    "#import sys\n",
    "#reload(sys.modules[\"ltar_reno_params_smooth\"])"
   ]
  },
  {
   "cell_type": "code",
   "execution_count": 13,
   "id": "d69266a0-57d4-4f58-8d9f-85d86ee17413",
   "metadata": {},
   "outputs": [],
   "source": [
    "def adapt_smooth(ts, dates, despike=True, dat_thresh=None):\n",
    "    ct_valid = sum(~np.isnan(ts))\n",
    "    ct_total = len(ts)\n",
    "    avg_gap = ct_total/ct_valid\n",
    "    if ct_valid > 0:\n",
    "        if avg_gap > 15:\n",
    "            despike = False\n",
    "        if despike:\n",
    "            if dat_thresh is None:\n",
    "                _dat_thresh = np.ptp(ts.values) * 0.10\n",
    "            else:\n",
    "                _dat_thresh = dat_thresh\n",
    "            ts_ds = despike_ts(ts.values, dat_thresh=_dat_thresh, days_thresh=45)\n",
    "        else:\n",
    "            ts_ds = ts.values\n",
    "        if avg_gap > 10:\n",
    "            ts_smooth = double_savgol(ts_ds, double=True, window1_max=7, window2=31, limit=91)\n",
    "        elif avg_gap > 7:\n",
    "             ts_smooth = double_savgol(ts_ds, double=True, window1_max=5, window2=41, limit=91)\n",
    "        elif avg_gap > 5:\n",
    "             ts_smooth = double_savgol(ts_ds, double=True, window1_max=5, window2=51, limit=91)\n",
    "        else:\n",
    "            ts_smooth = double_savgol(ts_ds, double=False, window2=51, limit=91)\n",
    "    else:\n",
    "        ts_smooth = ts\n",
    "    return pd.Series(ts_smooth, ts.index.get_level_values(-1))"
   ]
  },
  {
   "cell_type": "code",
   "execution_count": 14,
   "id": "a5905787-e74a-4db4-8008-bef1e799404d",
   "metadata": {},
   "outputs": [],
   "source": [
    "fLIST = glob(inPATH_wc)\n",
    "df = pd.read_csv(inPATH_dat, parse_dates=[date_col])"
   ]
  },
  {
   "cell_type": "code",
   "execution_count": 15,
   "id": "3f3f5f95-f3ad-4ae6-bcf4-f636df295989",
   "metadata": {},
   "outputs": [],
   "source": [
    "if preprocess is not None:\n",
    "    df = preprocess(df)"
   ]
  },
  {
   "cell_type": "code",
   "execution_count": 16,
   "id": "ff4e2427-8b1d-4672-915a-1f0d384a75bf",
   "metadata": {},
   "outputs": [
    {
     "data": {
      "text/html": [
       "<div>\n",
       "<style scoped>\n",
       "    .dataframe tbody tr th:only-of-type {\n",
       "        vertical-align: middle;\n",
       "    }\n",
       "\n",
       "    .dataframe tbody tr th {\n",
       "        vertical-align: top;\n",
       "    }\n",
       "\n",
       "    .dataframe thead th {\n",
       "        text-align: right;\n",
       "    }\n",
       "</style>\n",
       "<table border=\"1\" class=\"dataframe\">\n",
       "  <thead>\n",
       "    <tr style=\"text-align: right;\">\n",
       "      <th></th>\n",
       "      <th>Pasture</th>\n",
       "      <th>Date</th>\n",
       "      <th>Sample#</th>\n",
       "      <th>DW kg/ha</th>\n",
       "      <th>%moist</th>\n",
       "    </tr>\n",
       "  </thead>\n",
       "  <tbody>\n",
       "    <tr>\n",
       "      <th>0</th>\n",
       "      <td>P11</td>\n",
       "      <td>2020-05-11</td>\n",
       "      <td>3.0</td>\n",
       "      <td>703.2</td>\n",
       "      <td>77.2</td>\n",
       "    </tr>\n",
       "    <tr>\n",
       "      <th>1</th>\n",
       "      <td>P11</td>\n",
       "      <td>2020-06-18</td>\n",
       "      <td>3.0</td>\n",
       "      <td>2154.4</td>\n",
       "      <td>51.0</td>\n",
       "    </tr>\n",
       "    <tr>\n",
       "      <th>2</th>\n",
       "      <td>P11</td>\n",
       "      <td>2020-08-12</td>\n",
       "      <td>3.0</td>\n",
       "      <td>4060.0</td>\n",
       "      <td>67.8</td>\n",
       "    </tr>\n",
       "    <tr>\n",
       "      <th>3</th>\n",
       "      <td>P11</td>\n",
       "      <td>2020-10-15</td>\n",
       "      <td>3.0</td>\n",
       "      <td>2824.0</td>\n",
       "      <td>47.6</td>\n",
       "    </tr>\n",
       "    <tr>\n",
       "      <th>4</th>\n",
       "      <td>P11</td>\n",
       "      <td>2021-05-26</td>\n",
       "      <td>3.0</td>\n",
       "      <td>652.8</td>\n",
       "      <td>77.2</td>\n",
       "    </tr>\n",
       "  </tbody>\n",
       "</table>\n",
       "</div>"
      ],
      "text/plain": [
       "  Pasture       Date  Sample#  DW kg/ha  %moist\n",
       "0     P11 2020-05-11      3.0     703.2    77.2\n",
       "1     P11 2020-06-18      3.0    2154.4    51.0\n",
       "2     P11 2020-08-12      3.0    4060.0    67.8\n",
       "3     P11 2020-10-15      3.0    2824.0    47.6\n",
       "4     P11 2021-05-26      3.0     652.8    77.2"
      ]
     },
     "execution_count": 16,
     "metadata": {},
     "output_type": "execute_result"
    }
   ],
   "source": [
    "df.head(5)"
   ]
  },
  {
   "cell_type": "code",
   "execution_count": 36,
   "id": "6afd8d80-d54d-492d-8cd5-27ec3164d4dc",
   "metadata": {},
   "outputs": [],
   "source": [
    "df_out = None"
   ]
  },
  {
   "cell_type": "code",
   "execution_count": 37,
   "id": "bf825c0b-cb66-4847-a9ff-6bf25c5b5837",
   "metadata": {},
   "outputs": [
    {
     "name": "stdout",
     "output_type": "stream",
     "text": [
      "2020\n",
      "Smoothing vegetation indices\n"
     ]
    },
    {
     "name": "stderr",
     "output_type": "stream",
     "text": [
      "100%|██████████| 22/22 [00:00<00:00, 26.61it/s]\n"
     ]
    },
    {
     "name": "stdout",
     "output_type": "stream",
     "text": [
      "Smoothing individual bands\n"
     ]
    },
    {
     "name": "stderr",
     "output_type": "stream",
     "text": [
      "100%|██████████| 6/6 [00:00<00:00, 25.21it/s]\n"
     ]
    },
    {
     "name": "stdout",
     "output_type": "stream",
     "text": [
      "2021\n",
      "Smoothing vegetation indices\n"
     ]
    },
    {
     "name": "stderr",
     "output_type": "stream",
     "text": [
      "100%|██████████| 22/22 [00:00<00:00, 39.61it/s]\n"
     ]
    },
    {
     "name": "stdout",
     "output_type": "stream",
     "text": [
      "Smoothing individual bands\n"
     ]
    },
    {
     "name": "stderr",
     "output_type": "stream",
     "text": [
      "100%|██████████| 6/6 [00:00<00:00, 39.52it/s]\n"
     ]
    },
    {
     "name": "stdout",
     "output_type": "stream",
     "text": [
      "2022\n",
      "Smoothing vegetation indices\n"
     ]
    },
    {
     "name": "stderr",
     "output_type": "stream",
     "text": [
      "100%|██████████| 22/22 [00:00<00:00, 55.03it/s]\n"
     ]
    },
    {
     "name": "stdout",
     "output_type": "stream",
     "text": [
      "Smoothing individual bands\n"
     ]
    },
    {
     "name": "stderr",
     "output_type": "stream",
     "text": [
      "100%|██████████| 6/6 [00:00<00:00, 55.28it/s]\n"
     ]
    },
    {
     "name": "stdout",
     "output_type": "stream",
     "text": [
      "2023\n",
      "Smoothing vegetation indices\n"
     ]
    },
    {
     "name": "stderr",
     "output_type": "stream",
     "text": [
      "100%|██████████| 22/22 [00:00<00:00, 37.50it/s]\n"
     ]
    },
    {
     "name": "stdout",
     "output_type": "stream",
     "text": [
      "Smoothing individual bands\n"
     ]
    },
    {
     "name": "stderr",
     "output_type": "stream",
     "text": [
      "100%|██████████| 6/6 [00:00<00:00, 37.17it/s]\n"
     ]
    },
    {
     "name": "stdout",
     "output_type": "stream",
     "text": [
      "2019\n",
      "Smoothing vegetation indices\n"
     ]
    },
    {
     "name": "stderr",
     "output_type": "stream",
     "text": [
      "100%|██████████| 22/22 [00:00<00:00, 35.12it/s]\n"
     ]
    },
    {
     "name": "stdout",
     "output_type": "stream",
     "text": [
      "Smoothing individual bands\n"
     ]
    },
    {
     "name": "stderr",
     "output_type": "stream",
     "text": [
      "100%|██████████| 6/6 [00:00<00:00, 34.88it/s]\n"
     ]
    },
    {
     "name": "stdout",
     "output_type": "stream",
     "text": [
      "2016\n",
      "Smoothing vegetation indices\n"
     ]
    },
    {
     "name": "stderr",
     "output_type": "stream",
     "text": [
      "100%|██████████| 22/22 [00:00<00:00, 374.86it/s]\n"
     ]
    },
    {
     "name": "stdout",
     "output_type": "stream",
     "text": [
      "Smoothing individual bands\n"
     ]
    },
    {
     "name": "stderr",
     "output_type": "stream",
     "text": [
      "100%|██████████| 6/6 [00:00<00:00, 353.41it/s]\n"
     ]
    },
    {
     "name": "stdout",
     "output_type": "stream",
     "text": [
      "2017\n",
      "Smoothing vegetation indices\n"
     ]
    },
    {
     "name": "stderr",
     "output_type": "stream",
     "text": [
      "100%|██████████| 22/22 [00:00<00:00, 317.89it/s]\n"
     ]
    },
    {
     "name": "stdout",
     "output_type": "stream",
     "text": [
      "Smoothing individual bands\n"
     ]
    },
    {
     "name": "stderr",
     "output_type": "stream",
     "text": [
      "100%|██████████| 6/6 [00:00<00:00, 296.05it/s]\n"
     ]
    },
    {
     "name": "stdout",
     "output_type": "stream",
     "text": [
      "2018\n",
      "Smoothing vegetation indices\n"
     ]
    },
    {
     "name": "stderr",
     "output_type": "stream",
     "text": [
      "100%|██████████| 22/22 [00:00<00:00, 176.14it/s]\n"
     ]
    },
    {
     "name": "stdout",
     "output_type": "stream",
     "text": [
      "Smoothing individual bands\n"
     ]
    },
    {
     "name": "stderr",
     "output_type": "stream",
     "text": [
      "100%|██████████| 6/6 [00:00<00:00, 168.41it/s]\n"
     ]
    }
   ],
   "source": [
    "for yr in df[date_col].dt.year.unique():\n",
    "    print(yr)\n",
    "\n",
    "    # get list of files that match year based on path\n",
    "    fLIST_yr = [x for x in fLIST if str(yr) in os.path.basename(x).split('_')]\n",
    "\n",
    "    # combine all individual tile files into one dataframe\n",
    "    df_yr = pd.concat([pd.read_csv(x, parse_dates=[1]) for x in fLIST_yr])\n",
    "    \n",
    "    # rename columns to match ground data\n",
    "    df_yr = df_yr.rename(columns={'time': date_col,\n",
    "                                  'Plot': id_col})\n",
    "    \n",
    "    # convert date to datetime\n",
    "    df_yr[date_col] = pd.to_datetime(df_yr[date_col])\n",
    "    \n",
    "    # remove all non-plot data\n",
    "    #df_yr = df_yr[df_yr[id_col] != 'UNK']\n",
    "    \n",
    "    # remove any dates where bands are negative\n",
    "    df_yr = df_yr[~((df_yr[band_list] < 0).any(axis=1))]\n",
    "\n",
    "    # drop any duplicates by taking mean for each plot and date (might exist e.g., from plot on edge of tile during extraction)\n",
    "    df_yr = df_yr.groupby([id_col, date_col]).mean().reset_index()\n",
    "    \n",
    "    # get missing dates for gap-filling\n",
    "    dates_missing = [x for x in pd.date_range(df_yr[date_col].min(), df_yr[date_col].max()).date if x not in df_yr[date_col].dt.date.unique()]\n",
    "    \n",
    "    # convert missing dates to a dataframe for combining with veg index data\n",
    "    df_missing = pd.DataFrame({\n",
    "        id_col: list(chain.from_iterable([list(np.repeat(x, len(dates_missing))) for x in df_yr[id_col].unique()])),\n",
    "        date_col: list(chain.from_iterable(dates_missing for x in df_yr[id_col].unique()))})\n",
    "    \n",
    "    df_missing[date_col] = pd.to_datetime(df_missing[date_col])\n",
    "    \n",
    "    # combine into one dataframe for gapfilling\n",
    "    df_yr_ts = pd.concat([df_yr, df_missing]).sort_values([id_col, date_col])\n",
    "    \n",
    "    # apply Bolton mask to extracted values\n",
    "    if mask_bolton_by_id:\n",
    "        ps_bolton = df_yr_ts.groupby(id_col).progress_apply(lambda x: bolton_mask_np(x['BLUE'], x['SWIR2']))\n",
    "        df_yr_ts.loc[df_yr_ts[ps_bolton.droplevel(0) == 1.0].index, list(veg_dict.keys()) + band_list] = np.nan\n",
    "    \n",
    "    # smooth all vegetation indices to gapfill\n",
    "    print('Smoothing vegetation indices')\n",
    "    for vegidx in tqdm(veg_list):\n",
    "        #df_yr_ts[vegidx + '_smooth'] = df_yr_ts.groupby(id_col)[vegidx].transform(lambda x: double_savgol(x.values))\n",
    "        vals_smooth_yr = df_yr_ts.groupby(id_col).apply(lambda x: adapt_smooth(x[vegidx], pd.to_datetime(x[date_col])))\n",
    "        if vals_smooth_yr.index.nlevels > 1:\n",
    "            df_yr_ts[vegidx + '_smooth'] = vals_smooth_yr.droplevel(list(np.arange(vals_smooth_yr.index.nlevels-1)))\n",
    "        else:\n",
    "            df_yr_ts[vegidx + '_smooth'] = vals_smooth_yr.values.squeeze()\n",
    "    print('Smoothing individual bands')\n",
    "    for band in tqdm(band_list):\n",
    "        #df_yr_ts[band + '_smooth'] = df_yr_ts.groupby(id_col)[band].transform(lambda x: double_savgol(x.values))\n",
    "        vals_smooth_yr = df_yr_ts.groupby(id_col).apply(lambda x: adapt_smooth(x[band], pd.to_datetime(x[date_col])))\n",
    "        if vals_smooth_yr.index.nlevels > 1:\n",
    "            df_yr_ts[band + '_smooth'] = vals_smooth_yr.droplevel(list(np.arange(vals_smooth_yr.index.nlevels-1)))\n",
    "        else:\n",
    "            df_yr_ts[band + '_smooth'] = vals_smooth_yr.values.squeeze()\n",
    "    \n",
    "    # rename smoothed columns and drop originals\n",
    "    df_yr_ts = df_yr_ts.drop(columns=veg_list + band_list)\n",
    "    col_rename_dict = {c: re.sub('_smooth', '', c) for c in df_yr_ts.columns if '_smooth' in c}\n",
    "    df_yr_ts = df_yr_ts.rename(columns=col_rename_dict)\n",
    "\n",
    "    # merge with the ground data\n",
    "    df_out_yr = pd.merge(df[df[date_col].dt.year == yr], \n",
    "                         df_yr_ts[[id_col, date_col] + veg_list + band_list], \n",
    "                         on=[id_col, date_col],\n",
    "                         how='left')\n",
    "\n",
    "    # create or append to final output\n",
    "    if df_out is not None:\n",
    "        # merge with existing ouptput dataset\n",
    "        df_out = pd.concat([df_out, df_out_yr])\n",
    "    else:\n",
    "        # create output dataset\n",
    "        df_out = df_out_yr.copy()"
   ]
  },
  {
   "cell_type": "code",
   "execution_count": 38,
   "id": "c9464d68-8412-4e9c-98a4-047d2533eecb",
   "metadata": {},
   "outputs": [
    {
     "data": {
      "text/html": [
       "<div>\n",
       "<style scoped>\n",
       "    .dataframe tbody tr th:only-of-type {\n",
       "        vertical-align: middle;\n",
       "    }\n",
       "\n",
       "    .dataframe tbody tr th {\n",
       "        vertical-align: top;\n",
       "    }\n",
       "\n",
       "    .dataframe thead th {\n",
       "        text-align: right;\n",
       "    }\n",
       "</style>\n",
       "<table border=\"1\" class=\"dataframe\">\n",
       "  <thead>\n",
       "    <tr style=\"text-align: right;\">\n",
       "      <th></th>\n",
       "      <th>Pasture</th>\n",
       "      <th>Date</th>\n",
       "      <th>Sample#</th>\n",
       "      <th>DW kg/ha</th>\n",
       "      <th>%moist</th>\n",
       "      <th>NDVI</th>\n",
       "      <th>DFI</th>\n",
       "      <th>NDTI</th>\n",
       "      <th>SATVI</th>\n",
       "      <th>NDII7</th>\n",
       "      <th>...</th>\n",
       "      <th>BAI_146</th>\n",
       "      <th>BAI_236</th>\n",
       "      <th>BAI_246</th>\n",
       "      <th>BAI_346</th>\n",
       "      <th>BLUE</th>\n",
       "      <th>GREEN</th>\n",
       "      <th>RED</th>\n",
       "      <th>NIR1</th>\n",
       "      <th>SWIR1</th>\n",
       "      <th>SWIR2</th>\n",
       "    </tr>\n",
       "  </thead>\n",
       "  <tbody>\n",
       "    <tr>\n",
       "      <th>0</th>\n",
       "      <td>P11</td>\n",
       "      <td>2020-05-11</td>\n",
       "      <td>3.0</td>\n",
       "      <td>703.2</td>\n",
       "      <td>77.2</td>\n",
       "      <td>0.761241</td>\n",
       "      <td>6.460799</td>\n",
       "      <td>0.313401</td>\n",
       "      <td>0.296264</td>\n",
       "      <td>0.500965</td>\n",
       "      <td>...</td>\n",
       "      <td>88.803598</td>\n",
       "      <td>221.816604</td>\n",
       "      <td>86.423693</td>\n",
       "      <td>78.801794</td>\n",
       "      <td>404.518993</td>\n",
       "      <td>783.583046</td>\n",
       "      <td>519.463895</td>\n",
       "      <td>3816.448240</td>\n",
       "      <td>2431.796455</td>\n",
       "      <td>1275.180726</td>\n",
       "    </tr>\n",
       "    <tr>\n",
       "      <th>1</th>\n",
       "      <td>P11</td>\n",
       "      <td>2020-06-18</td>\n",
       "      <td>3.0</td>\n",
       "      <td>2154.4</td>\n",
       "      <td>51.0</td>\n",
       "      <td>0.684892</td>\n",
       "      <td>9.194049</td>\n",
       "      <td>0.329653</td>\n",
       "      <td>0.263256</td>\n",
       "      <td>0.490361</td>\n",
       "      <td>...</td>\n",
       "      <td>91.444944</td>\n",
       "      <td>191.911483</td>\n",
       "      <td>89.322682</td>\n",
       "      <td>82.438767</td>\n",
       "      <td>302.416055</td>\n",
       "      <td>709.105194</td>\n",
       "      <td>661.663863</td>\n",
       "      <td>3602.577144</td>\n",
       "      <td>2403.178259</td>\n",
       "      <td>1214.134063</td>\n",
       "    </tr>\n",
       "    <tr>\n",
       "      <th>2</th>\n",
       "      <td>P11</td>\n",
       "      <td>2020-08-12</td>\n",
       "      <td>3.0</td>\n",
       "      <td>4060.0</td>\n",
       "      <td>67.8</td>\n",
       "      <td>0.758583</td>\n",
       "      <td>7.466907</td>\n",
       "      <td>0.373623</td>\n",
       "      <td>0.273021</td>\n",
       "      <td>0.603621</td>\n",
       "      <td>...</td>\n",
       "      <td>80.540618</td>\n",
       "      <td>218.592972</td>\n",
       "      <td>78.894778</td>\n",
       "      <td>72.047286</td>\n",
       "      <td>312.472266</td>\n",
       "      <td>845.438721</td>\n",
       "      <td>585.274542</td>\n",
       "      <td>4260.327724</td>\n",
       "      <td>2294.229036</td>\n",
       "      <td>1046.967021</td>\n",
       "    </tr>\n",
       "    <tr>\n",
       "      <th>3</th>\n",
       "      <td>P11</td>\n",
       "      <td>2020-10-15</td>\n",
       "      <td>3.0</td>\n",
       "      <td>2824.0</td>\n",
       "      <td>47.6</td>\n",
       "      <td>0.541829</td>\n",
       "      <td>13.257943</td>\n",
       "      <td>0.287640</td>\n",
       "      <td>0.203450</td>\n",
       "      <td>0.413456</td>\n",
       "      <td>...</td>\n",
       "      <td>92.287918</td>\n",
       "      <td>160.471711</td>\n",
       "      <td>90.496135</td>\n",
       "      <td>84.622399</td>\n",
       "      <td>542.341911</td>\n",
       "      <td>1006.067367</td>\n",
       "      <td>1197.240371</td>\n",
       "      <td>3854.550030</td>\n",
       "      <td>2920.119960</td>\n",
       "      <td>1627.810749</td>\n",
       "    </tr>\n",
       "    <tr>\n",
       "      <th>4</th>\n",
       "      <td>P13</td>\n",
       "      <td>2020-05-11</td>\n",
       "      <td>3.0</td>\n",
       "      <td>1190.4</td>\n",
       "      <td>59.6</td>\n",
       "      <td>0.551760</td>\n",
       "      <td>12.512005</td>\n",
       "      <td>0.278206</td>\n",
       "      <td>0.292958</td>\n",
       "      <td>0.255567</td>\n",
       "      <td>...</td>\n",
       "      <td>107.912871</td>\n",
       "      <td>184.866437</td>\n",
       "      <td>105.908365</td>\n",
       "      <td>98.225415</td>\n",
       "      <td>499.876336</td>\n",
       "      <td>861.009288</td>\n",
       "      <td>886.917173</td>\n",
       "      <td>3078.469706</td>\n",
       "      <td>3219.755159</td>\n",
       "      <td>1826.204741</td>\n",
       "    </tr>\n",
       "  </tbody>\n",
       "</table>\n",
       "<p>5 rows × 33 columns</p>\n",
       "</div>"
      ],
      "text/plain": [
       "  Pasture       Date  Sample#  DW kg/ha  %moist      NDVI        DFI  \\\n",
       "0     P11 2020-05-11      3.0     703.2    77.2  0.761241   6.460799   \n",
       "1     P11 2020-06-18      3.0    2154.4    51.0  0.684892   9.194049   \n",
       "2     P11 2020-08-12      3.0    4060.0    67.8  0.758583   7.466907   \n",
       "3     P11 2020-10-15      3.0    2824.0    47.6  0.541829  13.257943   \n",
       "4     P13 2020-05-11      3.0    1190.4    59.6  0.551760  12.512005   \n",
       "\n",
       "       NDTI     SATVI     NDII7  ...     BAI_146     BAI_236     BAI_246  \\\n",
       "0  0.313401  0.296264  0.500965  ...   88.803598  221.816604   86.423693   \n",
       "1  0.329653  0.263256  0.490361  ...   91.444944  191.911483   89.322682   \n",
       "2  0.373623  0.273021  0.603621  ...   80.540618  218.592972   78.894778   \n",
       "3  0.287640  0.203450  0.413456  ...   92.287918  160.471711   90.496135   \n",
       "4  0.278206  0.292958  0.255567  ...  107.912871  184.866437  105.908365   \n",
       "\n",
       "     BAI_346        BLUE        GREEN          RED         NIR1        SWIR1  \\\n",
       "0  78.801794  404.518993   783.583046   519.463895  3816.448240  2431.796455   \n",
       "1  82.438767  302.416055   709.105194   661.663863  3602.577144  2403.178259   \n",
       "2  72.047286  312.472266   845.438721   585.274542  4260.327724  2294.229036   \n",
       "3  84.622399  542.341911  1006.067367  1197.240371  3854.550030  2920.119960   \n",
       "4  98.225415  499.876336   861.009288   886.917173  3078.469706  3219.755159   \n",
       "\n",
       "         SWIR2  \n",
       "0  1275.180726  \n",
       "1  1214.134063  \n",
       "2  1046.967021  \n",
       "3  1627.810749  \n",
       "4  1826.204741  \n",
       "\n",
       "[5 rows x 33 columns]"
      ]
     },
     "execution_count": 38,
     "metadata": {},
     "output_type": "execute_result"
    }
   ],
   "source": [
    "df_out.head(5)"
   ]
  },
  {
   "cell_type": "code",
   "execution_count": 39,
   "id": "cc06657a-d27e-481d-9f80-30e7cfcc898f",
   "metadata": {},
   "outputs": [
    {
     "data": {
      "text/html": [
       "<div>\n",
       "<style scoped>\n",
       "    .dataframe tbody tr th:only-of-type {\n",
       "        vertical-align: middle;\n",
       "    }\n",
       "\n",
       "    .dataframe tbody tr th {\n",
       "        vertical-align: top;\n",
       "    }\n",
       "\n",
       "    .dataframe thead th {\n",
       "        text-align: right;\n",
       "    }\n",
       "</style>\n",
       "<table border=\"1\" class=\"dataframe\">\n",
       "  <thead>\n",
       "    <tr style=\"text-align: right;\">\n",
       "      <th></th>\n",
       "      <th>Pasture</th>\n",
       "      <th>Date</th>\n",
       "      <th>Sample#</th>\n",
       "      <th>DW kg/ha</th>\n",
       "      <th>%moist</th>\n",
       "      <th>NDVI</th>\n",
       "      <th>DFI</th>\n",
       "      <th>NDTI</th>\n",
       "      <th>SATVI</th>\n",
       "      <th>NDII7</th>\n",
       "      <th>...</th>\n",
       "      <th>BAI_146</th>\n",
       "      <th>BAI_236</th>\n",
       "      <th>BAI_246</th>\n",
       "      <th>BAI_346</th>\n",
       "      <th>BLUE</th>\n",
       "      <th>GREEN</th>\n",
       "      <th>RED</th>\n",
       "      <th>NIR1</th>\n",
       "      <th>SWIR1</th>\n",
       "      <th>SWIR2</th>\n",
       "    </tr>\n",
       "  </thead>\n",
       "  <tbody>\n",
       "    <tr>\n",
       "      <th>6</th>\n",
       "      <td>P18</td>\n",
       "      <td>2018-07-23</td>\n",
       "      <td>2.0</td>\n",
       "      <td>2196.0</td>\n",
       "      <td>48.666667</td>\n",
       "      <td>NaN</td>\n",
       "      <td>NaN</td>\n",
       "      <td>NaN</td>\n",
       "      <td>NaN</td>\n",
       "      <td>NaN</td>\n",
       "      <td>...</td>\n",
       "      <td>NaN</td>\n",
       "      <td>NaN</td>\n",
       "      <td>NaN</td>\n",
       "      <td>NaN</td>\n",
       "      <td>NaN</td>\n",
       "      <td>NaN</td>\n",
       "      <td>NaN</td>\n",
       "      <td>NaN</td>\n",
       "      <td>NaN</td>\n",
       "      <td>NaN</td>\n",
       "    </tr>\n",
       "    <tr>\n",
       "      <th>7</th>\n",
       "      <td>P18</td>\n",
       "      <td>2018-08-07</td>\n",
       "      <td>3.0</td>\n",
       "      <td>1942.4</td>\n",
       "      <td>36.600000</td>\n",
       "      <td>NaN</td>\n",
       "      <td>NaN</td>\n",
       "      <td>NaN</td>\n",
       "      <td>NaN</td>\n",
       "      <td>NaN</td>\n",
       "      <td>...</td>\n",
       "      <td>NaN</td>\n",
       "      <td>NaN</td>\n",
       "      <td>NaN</td>\n",
       "      <td>NaN</td>\n",
       "      <td>NaN</td>\n",
       "      <td>NaN</td>\n",
       "      <td>NaN</td>\n",
       "      <td>NaN</td>\n",
       "      <td>NaN</td>\n",
       "      <td>NaN</td>\n",
       "    </tr>\n",
       "    <tr>\n",
       "      <th>8</th>\n",
       "      <td>P18</td>\n",
       "      <td>2018-09-18</td>\n",
       "      <td>3.0</td>\n",
       "      <td>4050.4</td>\n",
       "      <td>58.800000</td>\n",
       "      <td>NaN</td>\n",
       "      <td>NaN</td>\n",
       "      <td>NaN</td>\n",
       "      <td>NaN</td>\n",
       "      <td>NaN</td>\n",
       "      <td>...</td>\n",
       "      <td>NaN</td>\n",
       "      <td>NaN</td>\n",
       "      <td>NaN</td>\n",
       "      <td>NaN</td>\n",
       "      <td>NaN</td>\n",
       "      <td>NaN</td>\n",
       "      <td>NaN</td>\n",
       "      <td>NaN</td>\n",
       "      <td>NaN</td>\n",
       "      <td>NaN</td>\n",
       "    </tr>\n",
       "  </tbody>\n",
       "</table>\n",
       "<p>3 rows × 33 columns</p>\n",
       "</div>"
      ],
      "text/plain": [
       "  Pasture       Date  Sample#  DW kg/ha     %moist  NDVI  DFI  NDTI  SATVI  \\\n",
       "6    P18  2018-07-23      2.0    2196.0  48.666667   NaN  NaN   NaN    NaN   \n",
       "7    P18  2018-08-07      3.0    1942.4  36.600000   NaN  NaN   NaN    NaN   \n",
       "8    P18  2018-09-18      3.0    4050.4  58.800000   NaN  NaN   NaN    NaN   \n",
       "\n",
       "   NDII7  ...  BAI_146  BAI_236  BAI_246  BAI_346  BLUE  GREEN  RED  NIR1  \\\n",
       "6    NaN  ...      NaN      NaN      NaN      NaN   NaN    NaN  NaN   NaN   \n",
       "7    NaN  ...      NaN      NaN      NaN      NaN   NaN    NaN  NaN   NaN   \n",
       "8    NaN  ...      NaN      NaN      NaN      NaN   NaN    NaN  NaN   NaN   \n",
       "\n",
       "   SWIR1  SWIR2  \n",
       "6    NaN    NaN  \n",
       "7    NaN    NaN  \n",
       "8    NaN    NaN  \n",
       "\n",
       "[3 rows x 33 columns]"
      ]
     },
     "execution_count": 39,
     "metadata": {},
     "output_type": "execute_result"
    }
   ],
   "source": [
    "# look for any missing data\n",
    "df_out[df_out['NDVI'].isnull()].sort_values(id_col)"
   ]
  },
  {
   "cell_type": "code",
   "execution_count": 40,
   "id": "c5de00a1-8b2d-4486-9698-2700d3bef9c4",
   "metadata": {},
   "outputs": [
    {
     "data": {
      "text/html": [
       "<div>\n",
       "<style scoped>\n",
       "    .dataframe tbody tr th:only-of-type {\n",
       "        vertical-align: middle;\n",
       "    }\n",
       "\n",
       "    .dataframe tbody tr th {\n",
       "        vertical-align: top;\n",
       "    }\n",
       "\n",
       "    .dataframe thead th {\n",
       "        text-align: right;\n",
       "    }\n",
       "</style>\n",
       "<table border=\"1\" class=\"dataframe\">\n",
       "  <thead>\n",
       "    <tr style=\"text-align: right;\">\n",
       "      <th></th>\n",
       "      <th>Pasture</th>\n",
       "      <th>Date</th>\n",
       "      <th>Sample#</th>\n",
       "      <th>DW kg/ha</th>\n",
       "      <th>%moist</th>\n",
       "      <th>NDVI</th>\n",
       "      <th>DFI</th>\n",
       "      <th>NDTI</th>\n",
       "      <th>SATVI</th>\n",
       "      <th>NDII7</th>\n",
       "      <th>...</th>\n",
       "      <th>BAI_146</th>\n",
       "      <th>BAI_236</th>\n",
       "      <th>BAI_246</th>\n",
       "      <th>BAI_346</th>\n",
       "      <th>BLUE</th>\n",
       "      <th>GREEN</th>\n",
       "      <th>RED</th>\n",
       "      <th>NIR1</th>\n",
       "      <th>SWIR1</th>\n",
       "      <th>SWIR2</th>\n",
       "    </tr>\n",
       "  </thead>\n",
       "  <tbody>\n",
       "  </tbody>\n",
       "</table>\n",
       "<p>0 rows × 33 columns</p>\n",
       "</div>"
      ],
      "text/plain": [
       "Empty DataFrame\n",
       "Columns: [Pasture, Date, Sample#, DW kg/ha, %moist, NDVI, DFI, NDTI, SATVI, NDII7, SAVI, RDVI, MTVI1, NCI, NDCI, PSRI, NDWI, EVI, TCBI, TCGI, TCWI, BAI_126, BAI_136, BAI_146, BAI_236, BAI_246, BAI_346, BLUE, GREEN, RED, NIR1, SWIR1, SWIR2]\n",
       "Index: []\n",
       "\n",
       "[0 rows x 33 columns]"
      ]
     },
     "execution_count": 40,
     "metadata": {},
     "output_type": "execute_result"
    }
   ],
   "source": [
    "# look for any duplicated ID's\n",
    "df_out[df_out.duplicated(subset=[id_col, date_col], keep=False)].sort_values(id_col)"
   ]
  },
  {
   "cell_type": "code",
   "execution_count": 41,
   "id": "ebf5bd6a-1b04-45e8-a407-e361c82a72a7",
   "metadata": {},
   "outputs": [
    {
     "data": {
      "text/html": [
       "<div>\n",
       "<style scoped>\n",
       "    .dataframe tbody tr th:only-of-type {\n",
       "        vertical-align: middle;\n",
       "    }\n",
       "\n",
       "    .dataframe tbody tr th {\n",
       "        vertical-align: top;\n",
       "    }\n",
       "\n",
       "    .dataframe thead th {\n",
       "        text-align: right;\n",
       "    }\n",
       "</style>\n",
       "<table border=\"1\" class=\"dataframe\">\n",
       "  <thead>\n",
       "    <tr style=\"text-align: right;\">\n",
       "      <th></th>\n",
       "      <th>Pasture</th>\n",
       "      <th>Date</th>\n",
       "      <th>Sample#</th>\n",
       "      <th>DW kg/ha</th>\n",
       "      <th>%moist</th>\n",
       "      <th>NDVI</th>\n",
       "      <th>DFI</th>\n",
       "      <th>NDTI</th>\n",
       "      <th>SATVI</th>\n",
       "      <th>NDII7</th>\n",
       "      <th>...</th>\n",
       "      <th>BAI_146</th>\n",
       "      <th>BAI_236</th>\n",
       "      <th>BAI_246</th>\n",
       "      <th>BAI_346</th>\n",
       "      <th>BLUE</th>\n",
       "      <th>GREEN</th>\n",
       "      <th>RED</th>\n",
       "      <th>NIR1</th>\n",
       "      <th>SWIR1</th>\n",
       "      <th>SWIR2</th>\n",
       "    </tr>\n",
       "  </thead>\n",
       "  <tbody>\n",
       "  </tbody>\n",
       "</table>\n",
       "<p>0 rows × 33 columns</p>\n",
       "</div>"
      ],
      "text/plain": [
       "Empty DataFrame\n",
       "Columns: [Pasture, Date, Sample#, DW kg/ha, %moist, NDVI, DFI, NDTI, SATVI, NDII7, SAVI, RDVI, MTVI1, NCI, NDCI, PSRI, NDWI, EVI, TCBI, TCGI, TCWI, BAI_126, BAI_136, BAI_146, BAI_236, BAI_246, BAI_346, BLUE, GREEN, RED, NIR1, SWIR1, SWIR2]\n",
       "Index: []\n",
       "\n",
       "[0 rows x 33 columns]"
      ]
     },
     "execution_count": 41,
     "metadata": {},
     "output_type": "execute_result"
    }
   ],
   "source": [
    "# look for any duplicated ID's\n",
    "df_out[df_out.duplicated(subset=[id_col, date_col, 'NDVI'], keep=False)].sort_values(id_col)"
   ]
  },
  {
   "cell_type": "code",
   "execution_count": 42,
   "id": "265f5a71-0051-40ff-9021-80723e1fb69f",
   "metadata": {},
   "outputs": [],
   "source": [
    "# get mean or drop duplicated ID's\n",
    "#df_out = df_out.drop_duplicates(subset=[id_col, date_col], keep='first')"
   ]
  },
  {
   "cell_type": "code",
   "execution_count": 51,
   "id": "042e8034-f4da-414a-aedd-9bd85c50e932",
   "metadata": {},
   "outputs": [],
   "source": [
    "df_out.to_csv(outPATH, index=False)"
   ]
  },
  {
   "cell_type": "code",
   "execution_count": null,
   "id": "a6e111d2-b527-4621-b4e6-9dfee483d335",
   "metadata": {},
   "outputs": [],
   "source": []
  }
 ],
 "metadata": {
  "kernelspec": {
   "display_name": "hls_nrt_env",
   "language": "python",
   "name": "hls_nrt_env"
  },
  "language_info": {
   "codemirror_mode": {
    "name": "ipython",
    "version": 3
   },
   "file_extension": ".py",
   "mimetype": "text/x-python",
   "name": "python",
   "nbconvert_exporter": "python",
   "pygments_lexer": "ipython3",
   "version": "3.9.12"
  }
 },
 "nbformat": 4,
 "nbformat_minor": 5
}
