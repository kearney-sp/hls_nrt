{
 "cells": [
  {
   "cell_type": "code",
   "execution_count": 90,
   "id": "59a96422-55f6-4195-985b-e9d0db21e4df",
   "metadata": {},
   "outputs": [],
   "source": [
    "import rioxarray as riox\n",
    "import xarray as xr\n",
    "import os\n",
    "import glob\n",
    "import numpy as np\n",
    "import datetime"
   ]
  },
  {
   "cell_type": "code",
   "execution_count": 115,
   "id": "817e77c9-d5e1-44f9-8736-18700150e7df",
   "metadata": {},
   "outputs": [],
   "source": [
    "yr = 2023\n",
    "inDIR = '../data/predictions/rr_snaplands/'\n",
    "inWildcard = 'snaplands_rr_biomass_lb_ac_' + str(yr) + '_*.nc'"
   ]
  },
  {
   "cell_type": "code",
   "execution_count": 116,
   "id": "f54fbce6-283a-4f40-8f9a-32466d1cd3a7",
   "metadata": {},
   "outputs": [],
   "source": [
    "outDIR = '../output/hls_biomass/snaplands_rr'"
   ]
  },
  {
   "cell_type": "code",
   "execution_count": 117,
   "id": "9c84a818-1c5b-451e-a393-60f6ef4fbe19",
   "metadata": {},
   "outputs": [],
   "source": [
    "fLIST = glob.glob(os.path.join(inDIR, inWildcard))"
   ]
  },
  {
   "cell_type": "code",
   "execution_count": 118,
   "id": "76ff380c-f10e-4d51-a7bd-2a3004e45ae9",
   "metadata": {},
   "outputs": [],
   "source": [
    "xrLIST = []\n",
    "for f in fLIST:\n",
    "    xrLIST.append(riox.open_rasterio(f))#.sortby('y'))"
   ]
  },
  {
   "cell_type": "code",
   "execution_count": 119,
   "id": "d9bf9a5a-bb87-4166-854c-e646969c7957",
   "metadata": {},
   "outputs": [],
   "source": [
    "xr_all = xr.combine_by_coords(xrLIST)"
   ]
  },
  {
   "cell_type": "code",
   "execution_count": 120,
   "id": "040ddfcc-52c9-4695-8905-4049546b19f3",
   "metadata": {},
   "outputs": [],
   "source": [
    "xr_all = xr_all.where(xr_all > 0, other=0)"
   ]
  },
  {
   "cell_type": "code",
   "execution_count": 121,
   "id": "5c82dff0-f028-4a8c-b954-a590d4cde2cf",
   "metadata": {},
   "outputs": [],
   "source": [
    "xr_all.sel(date=datetime.datetime(yr, 5, 1)).rio.to_raster(\n",
    "    os.path.join(outDIR, 'snaplands_rr_bm_lbac_' + str(yr) + '_5_1.tif'))\n",
    "xr_all.sel(date=datetime.datetime(yr, 7, 15)).rio.to_raster(\n",
    "    os.path.join(outDIR, 'snaplands_rr_bm_lbac_' + str(yr) + '_7_15.tif'))\n",
    "xr_all.sel(date=datetime.datetime(yr, 10, 31)).rio.to_raster(\n",
    "    os.path.join(outDIR, 'snaplands_rr_bm_lbac_' + str(yr) + '_10_31.tif'))"
   ]
  },
  {
   "cell_type": "code",
   "execution_count": null,
   "id": "333271f4-56d4-437c-8926-e322dc49d7b6",
   "metadata": {},
   "outputs": [],
   "source": []
  }
 ],
 "metadata": {
  "kernelspec": {
   "display_name": "hls_nrt_env",
   "language": "python",
   "name": "hls_nrt_env"
  },
  "language_info": {
   "codemirror_mode": {
    "name": "ipython",
    "version": 3
   },
   "file_extension": ".py",
   "mimetype": "text/x-python",
   "name": "python",
   "nbconvert_exporter": "python",
   "pygments_lexer": "ipython3",
   "version": "3.9.12"
  }
 },
 "nbformat": 4,
 "nbformat_minor": 5
}
