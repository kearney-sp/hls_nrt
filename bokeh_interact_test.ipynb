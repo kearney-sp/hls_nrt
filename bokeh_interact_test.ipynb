{
 "cells": [
  {
   "cell_type": "code",
   "execution_count": null,
   "id": "4f92f5be-7f2a-4c73-a094-0a82bca702ae",
   "metadata": {},
   "outputs": [],
   "source": [
    "import pandas as pd\n",
    "import holoviews as hv\n",
    "import bokeh"
   ]
  },
  {
   "cell_type": "code",
   "execution_count": null,
   "id": "372ada26-0442-4159-a973-205e1b09d86a",
   "metadata": {},
   "outputs": [],
   "source": [
    "bokeh.sampledata.download()"
   ]
  },
  {
   "cell_type": "code",
   "execution_count": null,
   "id": "b622af0b-b865-467d-b6b4-ccab2b44804a",
   "metadata": {},
   "outputs": [],
   "source": [
    "from bokeh.sampledata import stocks\n",
    "from holoviews.operation.timeseries import rolling, rolling_outlier_std\n",
    "\n",
    "hv.extension('bokeh')"
   ]
  },
  {
   "cell_type": "code",
   "execution_count": null,
   "id": "372118a9-94f4-4ac5-af55-03c15f5362e7",
   "metadata": {},
   "outputs": [],
   "source": [
    "def load_symbol(symbol, variable, **kwargs):\n",
    "    df = pd.DataFrame(getattr(stocks, symbol))\n",
    "    df['date'] = df.date.astype('datetime64[ns]')\n",
    "    return hv.Curve(df, ('date', 'Date'), variable).opts(framewise=True)\n",
    "\n",
    "stock_symbols = ['AAPL', 'IBM', 'FB', 'GOOG', 'MSFT']\n",
    "variables = ['open', 'high', 'low', 'close', 'volume', 'adj_close']\n",
    "dmap = hv.DynamicMap(load_symbol, kdims=['Symbol','Variable'])\n",
    "dmap = dmap.redim.values(Symbol=stock_symbols, Variable=variables)\n",
    "\n",
    "dmap = dmap.opts(framewise=True)\n",
    "dmap = rolling(dmap, rolling_window=2)"
   ]
  },
  {
   "cell_type": "code",
   "execution_count": null,
   "id": "dbce94a8-9dfe-4c4d-a657-2e20193756ed",
   "metadata": {},
   "outputs": [],
   "source": [
    "#dmap"
   ]
  },
  {
   "cell_type": "code",
   "execution_count": null,
   "id": "aa1e283e-9f43-47a3-a626-156768a08eaa",
   "metadata": {},
   "outputs": [],
   "source": [
    "import panel as pn\n",
    "#pn.serve(pn.Pane(dmap).servable(), websocket_origin='jupyterhub.scinet.usda.gov')\n",
    "pn.Pane(dmap).servable()\n",
    "#server = pn.serve(dmap, start=False, show=False, \n",
    "#                  websocket='/user/{USER}/proxy/{port}')"
   ]
  },
  {
   "cell_type": "code",
   "execution_count": null,
   "id": "a9a03e55-709c-4826-a178-060fde76be05",
   "metadata": {},
   "outputs": [],
   "source": [
    "#server.start()\n",
    "#server.show('/')"
   ]
  },
  {
   "cell_type": "code",
   "execution_count": null,
   "id": "fd9ee5d5-7251-4ad4-bf7f-e26c0d90c9cb",
   "metadata": {},
   "outputs": [],
   "source": [
    "#server.stop()"
   ]
  },
  {
   "cell_type": "code",
   "execution_count": null,
   "id": "25fb2fa1-c48e-47d2-911f-2d795c03f0eb",
   "metadata": {},
   "outputs": [],
   "source": []
  }
 ],
 "metadata": {
  "kernelspec": {
   "display_name": "Python 3 (ipykernel)",
   "language": "python",
   "name": "python3"
  },
  "language_info": {
   "codemirror_mode": {
    "name": "ipython",
    "version": 3
   },
   "file_extension": ".py",
   "mimetype": "text/x-python",
   "name": "python",
   "nbconvert_exporter": "python",
   "pygments_lexer": "ipython3",
   "version": "3.10.4"
  }
 },
 "nbformat": 4,
 "nbformat_minor": 5
}
